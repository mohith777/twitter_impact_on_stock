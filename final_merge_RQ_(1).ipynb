{
  "nbformat": 4,
  "nbformat_minor": 0,
  "metadata": {
    "colab": {
      "provenance": []
    },
    "kernelspec": {
      "name": "python3",
      "display_name": "Python 3"
    },
    "language_info": {
      "name": "python"
    },
    "accelerator": "TPU",
    "gpuClass": "standard"
  },
  "cells": [
    {
      "cell_type": "code",
      "source": [
        "import pandas as pd"
      ],
      "metadata": {
        "id": "5eID0HKCHeWm"
      },
      "execution_count": 2,
      "outputs": []
    },
    {
      "cell_type": "code",
      "source": [
        "!apt-get install openjdk-8-jdk-headless -qq > /dev/null\n",
        "!wget -q https://archive.apache.org/dist/spark/spark-3.2.0/spark-3.2.0-bin-hadoop3.2.tgz\n",
        "!tar xf spark-3.2.0-bin-hadoop3.2.tgz\n",
        "!pip install -q findspark"
      ],
      "metadata": {
        "id": "8NNTS-FFLTjc"
      },
      "execution_count": 3,
      "outputs": []
    },
    {
      "cell_type": "code",
      "source": [
        "import os\n",
        "os.environ[\"JAVA_HOME\"] = \"/usr/lib/jvm/java-8-openjdk-amd64\"\n",
        "os.environ[\"SPARK_HOME\"] = \"spark-3.2.0-bin-hadoop3.2\""
      ],
      "metadata": {
        "id": "JUaLZyp6LUZ8"
      },
      "execution_count": 4,
      "outputs": []
    },
    {
      "cell_type": "code",
      "source": [
        "import findspark\n",
        "findspark.init()\n"
      ],
      "metadata": {
        "id": "c3q8nT-kLX9I"
      },
      "execution_count": 5,
      "outputs": []
    },
    {
      "cell_type": "code",
      "source": [
        "from pyspark.sql import SparkSession\n",
        "spark = SparkSession.builder.master(\"local[*]\").getOrCreate()\n",
        "sc = spark.sparkContext\n",
        "sc"
      ],
      "metadata": {
        "colab": {
          "base_uri": "https://localhost:8080/",
          "height": 196
        },
        "id": "ByBAnPxJLY3F",
        "outputId": "712ad44c-5691-4c3b-f252-35a43caad1cb"
      },
      "execution_count": 6,
      "outputs": [
        {
          "output_type": "execute_result",
          "data": {
            "text/plain": [
              "<SparkContext master=local[*] appName=pyspark-shell>"
            ],
            "text/html": [
              "\n",
              "        <div>\n",
              "            <p><b>SparkContext</b></p>\n",
              "\n",
              "            <p><a href=\"http://86061718e5bb:4040\">Spark UI</a></p>\n",
              "\n",
              "            <dl>\n",
              "              <dt>Version</dt>\n",
              "                <dd><code>v3.2.0</code></dd>\n",
              "              <dt>Master</dt>\n",
              "                <dd><code>local[*]</code></dd>\n",
              "              <dt>AppName</dt>\n",
              "                <dd><code>pyspark-shell</code></dd>\n",
              "            </dl>\n",
              "        </div>\n",
              "        "
            ]
          },
          "metadata": {},
          "execution_count": 6
        }
      ]
    },
    {
      "cell_type": "code",
      "source": [
        "from google.colab import drive\n",
        "\n",
        "# Mount your Google Drive\n",
        "drive.mount('/content/drive')"
      ],
      "metadata": {
        "colab": {
          "base_uri": "https://localhost:8080/"
        },
        "id": "Qh4hqWajLdRL",
        "outputId": "3ec96944-d4f8-4121-e430-2942a16a59ef"
      },
      "execution_count": 7,
      "outputs": [
        {
          "output_type": "stream",
          "name": "stdout",
          "text": [
            "Mounted at /content/drive\n"
          ]
        }
      ]
    },
    {
      "cell_type": "code",
      "execution_count": 13,
      "metadata": {
        "id": "6MLpQmoqGp2Q",
        "colab": {
          "base_uri": "https://localhost:8080/",
          "height": 311
        },
        "outputId": "8fd24c15-1c73-4ac1-d306-4919d44f8986"
      },
      "outputs": [
        {
          "output_type": "error",
          "ename": "FileNotFoundError",
          "evalue": "ignored",
          "traceback": [
            "\u001b[0;31m---------------------------------------------------------------------------\u001b[0m",
            "\u001b[0;31mFileNotFoundError\u001b[0m                         Traceback (most recent call last)",
            "\u001b[0;32m<ipython-input-13-e5b80e01aa0e>\u001b[0m in \u001b[0;36m<cell line: 1>\u001b[0;34m()\u001b[0m\n\u001b[0;32m----> 1\u001b[0;31m \u001b[0mdf\u001b[0m\u001b[0;34m=\u001b[0m\u001b[0mpd\u001b[0m\u001b[0;34m.\u001b[0m\u001b[0mread_csv\u001b[0m\u001b[0;34m(\u001b[0m\u001b[0;34m'/content/merged_twts_stcks (1).csv'\u001b[0m\u001b[0;34m)\u001b[0m\u001b[0;34m\u001b[0m\u001b[0;34m\u001b[0m\u001b[0m\n\u001b[0m",
            "\u001b[0;32m/usr/local/lib/python3.9/dist-packages/pandas/util/_decorators.py\u001b[0m in \u001b[0;36mwrapper\u001b[0;34m(*args, **kwargs)\u001b[0m\n\u001b[1;32m    209\u001b[0m                 \u001b[0;32melse\u001b[0m\u001b[0;34m:\u001b[0m\u001b[0;34m\u001b[0m\u001b[0;34m\u001b[0m\u001b[0m\n\u001b[1;32m    210\u001b[0m                     \u001b[0mkwargs\u001b[0m\u001b[0;34m[\u001b[0m\u001b[0mnew_arg_name\u001b[0m\u001b[0;34m]\u001b[0m \u001b[0;34m=\u001b[0m \u001b[0mnew_arg_value\u001b[0m\u001b[0;34m\u001b[0m\u001b[0;34m\u001b[0m\u001b[0m\n\u001b[0;32m--> 211\u001b[0;31m             \u001b[0;32mreturn\u001b[0m \u001b[0mfunc\u001b[0m\u001b[0;34m(\u001b[0m\u001b[0;34m*\u001b[0m\u001b[0margs\u001b[0m\u001b[0;34m,\u001b[0m \u001b[0;34m**\u001b[0m\u001b[0mkwargs\u001b[0m\u001b[0;34m)\u001b[0m\u001b[0;34m\u001b[0m\u001b[0;34m\u001b[0m\u001b[0m\n\u001b[0m\u001b[1;32m    212\u001b[0m \u001b[0;34m\u001b[0m\u001b[0m\n\u001b[1;32m    213\u001b[0m         \u001b[0;32mreturn\u001b[0m \u001b[0mcast\u001b[0m\u001b[0;34m(\u001b[0m\u001b[0mF\u001b[0m\u001b[0;34m,\u001b[0m \u001b[0mwrapper\u001b[0m\u001b[0;34m)\u001b[0m\u001b[0;34m\u001b[0m\u001b[0;34m\u001b[0m\u001b[0m\n",
            "\u001b[0;32m/usr/local/lib/python3.9/dist-packages/pandas/util/_decorators.py\u001b[0m in \u001b[0;36mwrapper\u001b[0;34m(*args, **kwargs)\u001b[0m\n\u001b[1;32m    329\u001b[0m                     \u001b[0mstacklevel\u001b[0m\u001b[0;34m=\u001b[0m\u001b[0mfind_stack_level\u001b[0m\u001b[0;34m(\u001b[0m\u001b[0;34m)\u001b[0m\u001b[0;34m,\u001b[0m\u001b[0;34m\u001b[0m\u001b[0;34m\u001b[0m\u001b[0m\n\u001b[1;32m    330\u001b[0m                 )\n\u001b[0;32m--> 331\u001b[0;31m             \u001b[0;32mreturn\u001b[0m \u001b[0mfunc\u001b[0m\u001b[0;34m(\u001b[0m\u001b[0;34m*\u001b[0m\u001b[0margs\u001b[0m\u001b[0;34m,\u001b[0m \u001b[0;34m**\u001b[0m\u001b[0mkwargs\u001b[0m\u001b[0;34m)\u001b[0m\u001b[0;34m\u001b[0m\u001b[0;34m\u001b[0m\u001b[0m\n\u001b[0m\u001b[1;32m    332\u001b[0m \u001b[0;34m\u001b[0m\u001b[0m\n\u001b[1;32m    333\u001b[0m         \u001b[0;31m# error: \"Callable[[VarArg(Any), KwArg(Any)], Any]\" has no\u001b[0m\u001b[0;34m\u001b[0m\u001b[0;34m\u001b[0m\u001b[0m\n",
            "\u001b[0;32m/usr/local/lib/python3.9/dist-packages/pandas/io/parsers/readers.py\u001b[0m in \u001b[0;36mread_csv\u001b[0;34m(filepath_or_buffer, sep, delimiter, header, names, index_col, usecols, squeeze, prefix, mangle_dupe_cols, dtype, engine, converters, true_values, false_values, skipinitialspace, skiprows, skipfooter, nrows, na_values, keep_default_na, na_filter, verbose, skip_blank_lines, parse_dates, infer_datetime_format, keep_date_col, date_parser, dayfirst, cache_dates, iterator, chunksize, compression, thousands, decimal, lineterminator, quotechar, quoting, doublequote, escapechar, comment, encoding, encoding_errors, dialect, error_bad_lines, warn_bad_lines, on_bad_lines, delim_whitespace, low_memory, memory_map, float_precision, storage_options)\u001b[0m\n\u001b[1;32m    948\u001b[0m     \u001b[0mkwds\u001b[0m\u001b[0;34m.\u001b[0m\u001b[0mupdate\u001b[0m\u001b[0;34m(\u001b[0m\u001b[0mkwds_defaults\u001b[0m\u001b[0;34m)\u001b[0m\u001b[0;34m\u001b[0m\u001b[0;34m\u001b[0m\u001b[0m\n\u001b[1;32m    949\u001b[0m \u001b[0;34m\u001b[0m\u001b[0m\n\u001b[0;32m--> 950\u001b[0;31m     \u001b[0;32mreturn\u001b[0m \u001b[0m_read\u001b[0m\u001b[0;34m(\u001b[0m\u001b[0mfilepath_or_buffer\u001b[0m\u001b[0;34m,\u001b[0m \u001b[0mkwds\u001b[0m\u001b[0;34m)\u001b[0m\u001b[0;34m\u001b[0m\u001b[0;34m\u001b[0m\u001b[0m\n\u001b[0m\u001b[1;32m    951\u001b[0m \u001b[0;34m\u001b[0m\u001b[0m\n\u001b[1;32m    952\u001b[0m \u001b[0;34m\u001b[0m\u001b[0m\n",
            "\u001b[0;32m/usr/local/lib/python3.9/dist-packages/pandas/io/parsers/readers.py\u001b[0m in \u001b[0;36m_read\u001b[0;34m(filepath_or_buffer, kwds)\u001b[0m\n\u001b[1;32m    603\u001b[0m \u001b[0;34m\u001b[0m\u001b[0m\n\u001b[1;32m    604\u001b[0m     \u001b[0;31m# Create the parser.\u001b[0m\u001b[0;34m\u001b[0m\u001b[0;34m\u001b[0m\u001b[0m\n\u001b[0;32m--> 605\u001b[0;31m     \u001b[0mparser\u001b[0m \u001b[0;34m=\u001b[0m \u001b[0mTextFileReader\u001b[0m\u001b[0;34m(\u001b[0m\u001b[0mfilepath_or_buffer\u001b[0m\u001b[0;34m,\u001b[0m \u001b[0;34m**\u001b[0m\u001b[0mkwds\u001b[0m\u001b[0;34m)\u001b[0m\u001b[0;34m\u001b[0m\u001b[0;34m\u001b[0m\u001b[0m\n\u001b[0m\u001b[1;32m    606\u001b[0m \u001b[0;34m\u001b[0m\u001b[0m\n\u001b[1;32m    607\u001b[0m     \u001b[0;32mif\u001b[0m \u001b[0mchunksize\u001b[0m \u001b[0;32mor\u001b[0m \u001b[0miterator\u001b[0m\u001b[0;34m:\u001b[0m\u001b[0;34m\u001b[0m\u001b[0;34m\u001b[0m\u001b[0m\n",
            "\u001b[0;32m/usr/local/lib/python3.9/dist-packages/pandas/io/parsers/readers.py\u001b[0m in \u001b[0;36m__init__\u001b[0;34m(self, f, engine, **kwds)\u001b[0m\n\u001b[1;32m   1440\u001b[0m \u001b[0;34m\u001b[0m\u001b[0m\n\u001b[1;32m   1441\u001b[0m         \u001b[0mself\u001b[0m\u001b[0;34m.\u001b[0m\u001b[0mhandles\u001b[0m\u001b[0;34m:\u001b[0m \u001b[0mIOHandles\u001b[0m \u001b[0;34m|\u001b[0m \u001b[0;32mNone\u001b[0m \u001b[0;34m=\u001b[0m \u001b[0;32mNone\u001b[0m\u001b[0;34m\u001b[0m\u001b[0;34m\u001b[0m\u001b[0m\n\u001b[0;32m-> 1442\u001b[0;31m         \u001b[0mself\u001b[0m\u001b[0;34m.\u001b[0m\u001b[0m_engine\u001b[0m \u001b[0;34m=\u001b[0m \u001b[0mself\u001b[0m\u001b[0;34m.\u001b[0m\u001b[0m_make_engine\u001b[0m\u001b[0;34m(\u001b[0m\u001b[0mf\u001b[0m\u001b[0;34m,\u001b[0m \u001b[0mself\u001b[0m\u001b[0;34m.\u001b[0m\u001b[0mengine\u001b[0m\u001b[0;34m)\u001b[0m\u001b[0;34m\u001b[0m\u001b[0;34m\u001b[0m\u001b[0m\n\u001b[0m\u001b[1;32m   1443\u001b[0m \u001b[0;34m\u001b[0m\u001b[0m\n\u001b[1;32m   1444\u001b[0m     \u001b[0;32mdef\u001b[0m \u001b[0mclose\u001b[0m\u001b[0;34m(\u001b[0m\u001b[0mself\u001b[0m\u001b[0;34m)\u001b[0m \u001b[0;34m->\u001b[0m \u001b[0;32mNone\u001b[0m\u001b[0;34m:\u001b[0m\u001b[0;34m\u001b[0m\u001b[0;34m\u001b[0m\u001b[0m\n",
            "\u001b[0;32m/usr/local/lib/python3.9/dist-packages/pandas/io/parsers/readers.py\u001b[0m in \u001b[0;36m_make_engine\u001b[0;34m(self, f, engine)\u001b[0m\n\u001b[1;32m   1733\u001b[0m                 \u001b[0;32mif\u001b[0m \u001b[0;34m\"b\"\u001b[0m \u001b[0;32mnot\u001b[0m \u001b[0;32min\u001b[0m \u001b[0mmode\u001b[0m\u001b[0;34m:\u001b[0m\u001b[0;34m\u001b[0m\u001b[0;34m\u001b[0m\u001b[0m\n\u001b[1;32m   1734\u001b[0m                     \u001b[0mmode\u001b[0m \u001b[0;34m+=\u001b[0m \u001b[0;34m\"b\"\u001b[0m\u001b[0;34m\u001b[0m\u001b[0;34m\u001b[0m\u001b[0m\n\u001b[0;32m-> 1735\u001b[0;31m             self.handles = get_handle(\n\u001b[0m\u001b[1;32m   1736\u001b[0m                 \u001b[0mf\u001b[0m\u001b[0;34m,\u001b[0m\u001b[0;34m\u001b[0m\u001b[0;34m\u001b[0m\u001b[0m\n\u001b[1;32m   1737\u001b[0m                 \u001b[0mmode\u001b[0m\u001b[0;34m,\u001b[0m\u001b[0;34m\u001b[0m\u001b[0;34m\u001b[0m\u001b[0m\n",
            "\u001b[0;32m/usr/local/lib/python3.9/dist-packages/pandas/io/common.py\u001b[0m in \u001b[0;36mget_handle\u001b[0;34m(path_or_buf, mode, encoding, compression, memory_map, is_text, errors, storage_options)\u001b[0m\n\u001b[1;32m    854\u001b[0m         \u001b[0;32mif\u001b[0m \u001b[0mioargs\u001b[0m\u001b[0;34m.\u001b[0m\u001b[0mencoding\u001b[0m \u001b[0;32mand\u001b[0m \u001b[0;34m\"b\"\u001b[0m \u001b[0;32mnot\u001b[0m \u001b[0;32min\u001b[0m \u001b[0mioargs\u001b[0m\u001b[0;34m.\u001b[0m\u001b[0mmode\u001b[0m\u001b[0;34m:\u001b[0m\u001b[0;34m\u001b[0m\u001b[0;34m\u001b[0m\u001b[0m\n\u001b[1;32m    855\u001b[0m             \u001b[0;31m# Encoding\u001b[0m\u001b[0;34m\u001b[0m\u001b[0;34m\u001b[0m\u001b[0m\n\u001b[0;32m--> 856\u001b[0;31m             handle = open(\n\u001b[0m\u001b[1;32m    857\u001b[0m                 \u001b[0mhandle\u001b[0m\u001b[0;34m,\u001b[0m\u001b[0;34m\u001b[0m\u001b[0;34m\u001b[0m\u001b[0m\n\u001b[1;32m    858\u001b[0m                 \u001b[0mioargs\u001b[0m\u001b[0;34m.\u001b[0m\u001b[0mmode\u001b[0m\u001b[0;34m,\u001b[0m\u001b[0;34m\u001b[0m\u001b[0;34m\u001b[0m\u001b[0m\n",
            "\u001b[0;31mFileNotFoundError\u001b[0m: [Errno 2] No such file or directory: '/content/merged_twts_stcks (1).csv'"
          ]
        }
      ],
      "source": [
        "df=pd.read_csv('/content/merged_twts_stcks (1).csv')"
      ]
    },
    {
      "cell_type": "code",
      "source": [
        "df"
      ],
      "metadata": {
        "colab": {
          "base_uri": "https://localhost:8080/",
          "height": 661
        },
        "id": "LGLzkHu-HhNS",
        "outputId": "a2b63841-f348-427c-a65f-552e0cc55adc"
      },
      "execution_count": null,
      "outputs": [
        {
          "output_type": "execute_result",
          "data": {
            "text/plain": [
              "            date  weighted_avg_sentiment_score  daywise_median_positive_score  \\\n",
              "0     2022-01-03                      0.275056                         0.5574   \n",
              "1     2022-01-04                      0.158388                         0.4019   \n",
              "2     2022-01-05                      0.461787                         0.4939   \n",
              "3     2022-01-06                      0.426657                         0.4215   \n",
              "4     2022-01-07                      0.571032                         0.5994   \n",
              "...          ...                           ...                            ...   \n",
              "1804  2022-12-26                      0.503670                         0.5574   \n",
              "1805  2022-12-27                      0.080529                         0.6486   \n",
              "1806  2022-12-28                      0.178044                         0.5267   \n",
              "1807  2022-12-29                     -0.001567                         0.5574   \n",
              "1808  2022-12-30                      0.526915                         0.2960   \n",
              "\n",
              "      daywise_median_negative_score  daywise_positive_tweet_count  \\\n",
              "0                            0.2732                            11   \n",
              "1                            0.1027                            16   \n",
              "2                            0.5859                            20   \n",
              "3                            0.6542                            11   \n",
              "4                            0.3182                            18   \n",
              "...                             ...                           ...   \n",
              "1804                         0.5994                            13   \n",
              "1805                         0.1779                            15   \n",
              "1806                         0.2732                            21   \n",
              "1807                         0.3612                             5   \n",
              "1808                         0.1779                             5   \n",
              "\n",
              "      daywise_negative_tweet_count  daywise_avg_replyCount  \\\n",
              "0                                1                      82   \n",
              "1                                2                      49   \n",
              "2                                4                       4   \n",
              "3                                1                      65   \n",
              "4                                2                      57   \n",
              "...                            ...                     ...   \n",
              "1804                             2                       4   \n",
              "1805                            11                       9   \n",
              "1806                             9                       8   \n",
              "1807                             6                       5   \n",
              "1808                             4                       4   \n",
              "\n",
              "      daywise_avg_retweetCount  daywise_avg_likeCount  daywise_avg_quoteCount  \\\n",
              "0                            6                     33                       3   \n",
              "1                            7                     33                       1   \n",
              "2                            8                     59                       1   \n",
              "3                            5                     25                       1   \n",
              "4                            5                     48                       1   \n",
              "...                        ...                    ...                     ...   \n",
              "1804                         3                     40                       1   \n",
              "1805                        11                     77                       2   \n",
              "1806                        10                     64                       1   \n",
              "1807                        11                     58                       1   \n",
              "1808                         9                    270                       1   \n",
              "\n",
              "      company  stock_price  next_day_stock_price  trend  \n",
              "0           1   144.991501            144.399506      0  \n",
              "1           1   144.399506            137.774994      0  \n",
              "2           1   137.774994            137.747498      0  \n",
              "3           1   137.747498            137.016998      0  \n",
              "4           1   137.016998            140.386093      1  \n",
              "...       ...          ...                   ...    ...  \n",
              "1804        5   133.179993            130.029999      0  \n",
              "1805        5   130.029999            126.040001      0  \n",
              "1806        5   126.040001            129.610001      1  \n",
              "1807        5   129.610001            129.929993      1  \n",
              "1808        5   129.929993            113.635002      0  \n",
              "\n",
              "[1809 rows x 14 columns]"
            ],
            "text/html": [
              "\n",
              "  <div id=\"df-fb23257b-3457-4444-8da1-a5224872ce17\">\n",
              "    <div class=\"colab-df-container\">\n",
              "      <div>\n",
              "<style scoped>\n",
              "    .dataframe tbody tr th:only-of-type {\n",
              "        vertical-align: middle;\n",
              "    }\n",
              "\n",
              "    .dataframe tbody tr th {\n",
              "        vertical-align: top;\n",
              "    }\n",
              "\n",
              "    .dataframe thead th {\n",
              "        text-align: right;\n",
              "    }\n",
              "</style>\n",
              "<table border=\"1\" class=\"dataframe\">\n",
              "  <thead>\n",
              "    <tr style=\"text-align: right;\">\n",
              "      <th></th>\n",
              "      <th>date</th>\n",
              "      <th>weighted_avg_sentiment_score</th>\n",
              "      <th>daywise_median_positive_score</th>\n",
              "      <th>daywise_median_negative_score</th>\n",
              "      <th>daywise_positive_tweet_count</th>\n",
              "      <th>daywise_negative_tweet_count</th>\n",
              "      <th>daywise_avg_replyCount</th>\n",
              "      <th>daywise_avg_retweetCount</th>\n",
              "      <th>daywise_avg_likeCount</th>\n",
              "      <th>daywise_avg_quoteCount</th>\n",
              "      <th>company</th>\n",
              "      <th>stock_price</th>\n",
              "      <th>next_day_stock_price</th>\n",
              "      <th>trend</th>\n",
              "    </tr>\n",
              "  </thead>\n",
              "  <tbody>\n",
              "    <tr>\n",
              "      <th>0</th>\n",
              "      <td>2022-01-03</td>\n",
              "      <td>0.275056</td>\n",
              "      <td>0.5574</td>\n",
              "      <td>0.2732</td>\n",
              "      <td>11</td>\n",
              "      <td>1</td>\n",
              "      <td>82</td>\n",
              "      <td>6</td>\n",
              "      <td>33</td>\n",
              "      <td>3</td>\n",
              "      <td>1</td>\n",
              "      <td>144.991501</td>\n",
              "      <td>144.399506</td>\n",
              "      <td>0</td>\n",
              "    </tr>\n",
              "    <tr>\n",
              "      <th>1</th>\n",
              "      <td>2022-01-04</td>\n",
              "      <td>0.158388</td>\n",
              "      <td>0.4019</td>\n",
              "      <td>0.1027</td>\n",
              "      <td>16</td>\n",
              "      <td>2</td>\n",
              "      <td>49</td>\n",
              "      <td>7</td>\n",
              "      <td>33</td>\n",
              "      <td>1</td>\n",
              "      <td>1</td>\n",
              "      <td>144.399506</td>\n",
              "      <td>137.774994</td>\n",
              "      <td>0</td>\n",
              "    </tr>\n",
              "    <tr>\n",
              "      <th>2</th>\n",
              "      <td>2022-01-05</td>\n",
              "      <td>0.461787</td>\n",
              "      <td>0.4939</td>\n",
              "      <td>0.5859</td>\n",
              "      <td>20</td>\n",
              "      <td>4</td>\n",
              "      <td>4</td>\n",
              "      <td>8</td>\n",
              "      <td>59</td>\n",
              "      <td>1</td>\n",
              "      <td>1</td>\n",
              "      <td>137.774994</td>\n",
              "      <td>137.747498</td>\n",
              "      <td>0</td>\n",
              "    </tr>\n",
              "    <tr>\n",
              "      <th>3</th>\n",
              "      <td>2022-01-06</td>\n",
              "      <td>0.426657</td>\n",
              "      <td>0.4215</td>\n",
              "      <td>0.6542</td>\n",
              "      <td>11</td>\n",
              "      <td>1</td>\n",
              "      <td>65</td>\n",
              "      <td>5</td>\n",
              "      <td>25</td>\n",
              "      <td>1</td>\n",
              "      <td>1</td>\n",
              "      <td>137.747498</td>\n",
              "      <td>137.016998</td>\n",
              "      <td>0</td>\n",
              "    </tr>\n",
              "    <tr>\n",
              "      <th>4</th>\n",
              "      <td>2022-01-07</td>\n",
              "      <td>0.571032</td>\n",
              "      <td>0.5994</td>\n",
              "      <td>0.3182</td>\n",
              "      <td>18</td>\n",
              "      <td>2</td>\n",
              "      <td>57</td>\n",
              "      <td>5</td>\n",
              "      <td>48</td>\n",
              "      <td>1</td>\n",
              "      <td>1</td>\n",
              "      <td>137.016998</td>\n",
              "      <td>140.386093</td>\n",
              "      <td>1</td>\n",
              "    </tr>\n",
              "    <tr>\n",
              "      <th>...</th>\n",
              "      <td>...</td>\n",
              "      <td>...</td>\n",
              "      <td>...</td>\n",
              "      <td>...</td>\n",
              "      <td>...</td>\n",
              "      <td>...</td>\n",
              "      <td>...</td>\n",
              "      <td>...</td>\n",
              "      <td>...</td>\n",
              "      <td>...</td>\n",
              "      <td>...</td>\n",
              "      <td>...</td>\n",
              "      <td>...</td>\n",
              "      <td>...</td>\n",
              "    </tr>\n",
              "    <tr>\n",
              "      <th>1804</th>\n",
              "      <td>2022-12-26</td>\n",
              "      <td>0.503670</td>\n",
              "      <td>0.5574</td>\n",
              "      <td>0.5994</td>\n",
              "      <td>13</td>\n",
              "      <td>2</td>\n",
              "      <td>4</td>\n",
              "      <td>3</td>\n",
              "      <td>40</td>\n",
              "      <td>1</td>\n",
              "      <td>5</td>\n",
              "      <td>133.179993</td>\n",
              "      <td>130.029999</td>\n",
              "      <td>0</td>\n",
              "    </tr>\n",
              "    <tr>\n",
              "      <th>1805</th>\n",
              "      <td>2022-12-27</td>\n",
              "      <td>0.080529</td>\n",
              "      <td>0.6486</td>\n",
              "      <td>0.1779</td>\n",
              "      <td>15</td>\n",
              "      <td>11</td>\n",
              "      <td>9</td>\n",
              "      <td>11</td>\n",
              "      <td>77</td>\n",
              "      <td>2</td>\n",
              "      <td>5</td>\n",
              "      <td>130.029999</td>\n",
              "      <td>126.040001</td>\n",
              "      <td>0</td>\n",
              "    </tr>\n",
              "    <tr>\n",
              "      <th>1806</th>\n",
              "      <td>2022-12-28</td>\n",
              "      <td>0.178044</td>\n",
              "      <td>0.5267</td>\n",
              "      <td>0.2732</td>\n",
              "      <td>21</td>\n",
              "      <td>9</td>\n",
              "      <td>8</td>\n",
              "      <td>10</td>\n",
              "      <td>64</td>\n",
              "      <td>1</td>\n",
              "      <td>5</td>\n",
              "      <td>126.040001</td>\n",
              "      <td>129.610001</td>\n",
              "      <td>1</td>\n",
              "    </tr>\n",
              "    <tr>\n",
              "      <th>1807</th>\n",
              "      <td>2022-12-29</td>\n",
              "      <td>-0.001567</td>\n",
              "      <td>0.5574</td>\n",
              "      <td>0.3612</td>\n",
              "      <td>5</td>\n",
              "      <td>6</td>\n",
              "      <td>5</td>\n",
              "      <td>11</td>\n",
              "      <td>58</td>\n",
              "      <td>1</td>\n",
              "      <td>5</td>\n",
              "      <td>129.610001</td>\n",
              "      <td>129.929993</td>\n",
              "      <td>1</td>\n",
              "    </tr>\n",
              "    <tr>\n",
              "      <th>1808</th>\n",
              "      <td>2022-12-30</td>\n",
              "      <td>0.526915</td>\n",
              "      <td>0.2960</td>\n",
              "      <td>0.1779</td>\n",
              "      <td>5</td>\n",
              "      <td>4</td>\n",
              "      <td>4</td>\n",
              "      <td>9</td>\n",
              "      <td>270</td>\n",
              "      <td>1</td>\n",
              "      <td>5</td>\n",
              "      <td>129.929993</td>\n",
              "      <td>113.635002</td>\n",
              "      <td>0</td>\n",
              "    </tr>\n",
              "  </tbody>\n",
              "</table>\n",
              "<p>1809 rows × 14 columns</p>\n",
              "</div>\n",
              "      <button class=\"colab-df-convert\" onclick=\"convertToInteractive('df-fb23257b-3457-4444-8da1-a5224872ce17')\"\n",
              "              title=\"Convert this dataframe to an interactive table.\"\n",
              "              style=\"display:none;\">\n",
              "        \n",
              "  <svg xmlns=\"http://www.w3.org/2000/svg\" height=\"24px\"viewBox=\"0 0 24 24\"\n",
              "       width=\"24px\">\n",
              "    <path d=\"M0 0h24v24H0V0z\" fill=\"none\"/>\n",
              "    <path d=\"M18.56 5.44l.94 2.06.94-2.06 2.06-.94-2.06-.94-.94-2.06-.94 2.06-2.06.94zm-11 1L8.5 8.5l.94-2.06 2.06-.94-2.06-.94L8.5 2.5l-.94 2.06-2.06.94zm10 10l.94 2.06.94-2.06 2.06-.94-2.06-.94-.94-2.06-.94 2.06-2.06.94z\"/><path d=\"M17.41 7.96l-1.37-1.37c-.4-.4-.92-.59-1.43-.59-.52 0-1.04.2-1.43.59L10.3 9.45l-7.72 7.72c-.78.78-.78 2.05 0 2.83L4 21.41c.39.39.9.59 1.41.59.51 0 1.02-.2 1.41-.59l7.78-7.78 2.81-2.81c.8-.78.8-2.07 0-2.86zM5.41 20L4 18.59l7.72-7.72 1.47 1.35L5.41 20z\"/>\n",
              "  </svg>\n",
              "      </button>\n",
              "      \n",
              "  <style>\n",
              "    .colab-df-container {\n",
              "      display:flex;\n",
              "      flex-wrap:wrap;\n",
              "      gap: 12px;\n",
              "    }\n",
              "\n",
              "    .colab-df-convert {\n",
              "      background-color: #E8F0FE;\n",
              "      border: none;\n",
              "      border-radius: 50%;\n",
              "      cursor: pointer;\n",
              "      display: none;\n",
              "      fill: #1967D2;\n",
              "      height: 32px;\n",
              "      padding: 0 0 0 0;\n",
              "      width: 32px;\n",
              "    }\n",
              "\n",
              "    .colab-df-convert:hover {\n",
              "      background-color: #E2EBFA;\n",
              "      box-shadow: 0px 1px 2px rgba(60, 64, 67, 0.3), 0px 1px 3px 1px rgba(60, 64, 67, 0.15);\n",
              "      fill: #174EA6;\n",
              "    }\n",
              "\n",
              "    [theme=dark] .colab-df-convert {\n",
              "      background-color: #3B4455;\n",
              "      fill: #D2E3FC;\n",
              "    }\n",
              "\n",
              "    [theme=dark] .colab-df-convert:hover {\n",
              "      background-color: #434B5C;\n",
              "      box-shadow: 0px 1px 3px 1px rgba(0, 0, 0, 0.15);\n",
              "      filter: drop-shadow(0px 1px 2px rgba(0, 0, 0, 0.3));\n",
              "      fill: #FFFFFF;\n",
              "    }\n",
              "  </style>\n",
              "\n",
              "      <script>\n",
              "        const buttonEl =\n",
              "          document.querySelector('#df-fb23257b-3457-4444-8da1-a5224872ce17 button.colab-df-convert');\n",
              "        buttonEl.style.display =\n",
              "          google.colab.kernel.accessAllowed ? 'block' : 'none';\n",
              "\n",
              "        async function convertToInteractive(key) {\n",
              "          const element = document.querySelector('#df-fb23257b-3457-4444-8da1-a5224872ce17');\n",
              "          const dataTable =\n",
              "            await google.colab.kernel.invokeFunction('convertToInteractive',\n",
              "                                                     [key], {});\n",
              "          if (!dataTable) return;\n",
              "\n",
              "          const docLinkHtml = 'Like what you see? Visit the ' +\n",
              "            '<a target=\"_blank\" href=https://colab.research.google.com/notebooks/data_table.ipynb>data table notebook</a>'\n",
              "            + ' to learn more about interactive tables.';\n",
              "          element.innerHTML = '';\n",
              "          dataTable['output_type'] = 'display_data';\n",
              "          await google.colab.output.renderOutput(dataTable, element);\n",
              "          const docLink = document.createElement('div');\n",
              "          docLink.innerHTML = docLinkHtml;\n",
              "          element.appendChild(docLink);\n",
              "        }\n",
              "      </script>\n",
              "    </div>\n",
              "  </div>\n",
              "  "
            ]
          },
          "metadata": {},
          "execution_count": 10
        }
      ]
    },
    {
      "cell_type": "code",
      "source": [
        "full_data_df = spark.createDataFrame(df)"
      ],
      "metadata": {
        "colab": {
          "base_uri": "https://localhost:8080/",
          "height": 166
        },
        "id": "-jKfqFO1JPaV",
        "outputId": "c6a13b6e-2e4b-4027-b689-9eb88297f24f"
      },
      "execution_count": 12,
      "outputs": [
        {
          "output_type": "error",
          "ename": "NameError",
          "evalue": "ignored",
          "traceback": [
            "\u001b[0;31m---------------------------------------------------------------------------\u001b[0m",
            "\u001b[0;31mNameError\u001b[0m                                 Traceback (most recent call last)",
            "\u001b[0;32m<ipython-input-12-ec19eb8527d5>\u001b[0m in \u001b[0;36m<cell line: 1>\u001b[0;34m()\u001b[0m\n\u001b[0;32m----> 1\u001b[0;31m \u001b[0mfull_data_df\u001b[0m \u001b[0;34m=\u001b[0m \u001b[0mspark\u001b[0m\u001b[0;34m.\u001b[0m\u001b[0mcreateDataFrame\u001b[0m\u001b[0;34m(\u001b[0m\u001b[0mdf\u001b[0m\u001b[0;34m)\u001b[0m\u001b[0;34m\u001b[0m\u001b[0;34m\u001b[0m\u001b[0m\n\u001b[0m",
            "\u001b[0;31mNameError\u001b[0m: name 'df' is not defined"
          ]
        }
      ]
    },
    {
      "cell_type": "code",
      "source": [
        "full_data_df.show()"
      ],
      "metadata": {
        "id": "bp6TnpFMLn5W"
      },
      "execution_count": null,
      "outputs": []
    },
    {
      "cell_type": "code",
      "source": [
        "count=len(full_data_df.columns[1:-3])\n",
        "count\n",
        "full_data_df.columns[1:]"
      ],
      "metadata": {
        "colab": {
          "base_uri": "https://localhost:8080/"
        },
        "id": "XjhF0rK5Yyv8",
        "outputId": "1daa4814-b3e0-44f6-faeb-57973c2f8014"
      },
      "execution_count": null,
      "outputs": [
        {
          "output_type": "execute_result",
          "data": {
            "text/plain": [
              "['weighted_avg_sentiment_score',\n",
              " 'daywise_median_positive_score',\n",
              " 'daywise_median_negative_score',\n",
              " 'daywise_positive_tweet_count',\n",
              " 'daywise_negative_tweet_count',\n",
              " 'daywise_avg_replyCount',\n",
              " 'daywise_avg_retweetCount',\n",
              " 'daywise_avg_likeCount',\n",
              " 'daywise_avg_quoteCount',\n",
              " 'company',\n",
              " 'stock_price',\n",
              " 'next_day_stock_price',\n",
              " 'trend']"
            ]
          },
          "metadata": {},
          "execution_count": 13
        }
      ]
    },
    {
      "cell_type": "code",
      "source": [
        "full_data_df.columns[1:-3]"
      ],
      "metadata": {
        "colab": {
          "base_uri": "https://localhost:8080/"
        },
        "id": "GLFnqkTPZBD6",
        "outputId": "13af463c-868e-46c1-ed33-adfdf008b8fd"
      },
      "execution_count": null,
      "outputs": [
        {
          "output_type": "execute_result",
          "data": {
            "text/plain": [
              "['weighted_avg_sentiment_score',\n",
              " 'daywise_median_positive_score',\n",
              " 'daywise_median_negative_score',\n",
              " 'daywise_positive_tweet_count',\n",
              " 'daywise_negative_tweet_count',\n",
              " 'daywise_avg_replyCount',\n",
              " 'daywise_avg_retweetCount',\n",
              " 'daywise_avg_likeCount',\n",
              " 'daywise_avg_quoteCount',\n",
              " 'company']"
            ]
          },
          "metadata": {},
          "execution_count": 14
        }
      ]
    },
    {
      "cell_type": "code",
      "source": [
        "full_data_df.tail(1)"
      ],
      "metadata": {
        "colab": {
          "base_uri": "https://localhost:8080/"
        },
        "id": "9JLv29b7mHMP",
        "outputId": "aa648858-4777-400b-b8ed-ee4f37f63dd0"
      },
      "execution_count": null,
      "outputs": [
        {
          "output_type": "execute_result",
          "data": {
            "text/plain": [
              "[Row(date='2022-12-30', weighted_avg_sentiment_score=0.526914597999259, daywise_median_positive_score=0.296, daywise_median_negative_score=0.1779, daywise_positive_tweet_count=5, daywise_negative_tweet_count=4, daywise_avg_replyCount=4, daywise_avg_retweetCount=9, daywise_avg_likeCount=270, daywise_avg_quoteCount=1, company=5, stock_price=129.929993, next_day_stock_price=113.63500213623048, trend=0)]"
            ]
          },
          "metadata": {},
          "execution_count": 15
        }
      ]
    },
    {
      "cell_type": "code",
      "source": [
        "from pyspark.sql.functions import corr\n",
        "\n",
        "\n",
        "\n",
        "# Get all column names except for 'next_day_stock_price'\n",
        "all_cols = [col_name for col_name in full_data_df.columns if col_name != 'next_day_stock_price']\n",
        "\n",
        "# Compute correlations\n",
        "correlations = []\n",
        "for col in all_cols:\n",
        "    corr_val = full_data_df.select(corr('next_day_stock_price', col)).collect()[0][0]\n",
        "    correlations.append((col, corr_val))\n",
        "\n",
        "# Print results\n",
        "for col, corr_val in correlations:\n",
        "    print(f\"Correlation between 'next_day_stock_price' and '{col}': {corr_val}\")\n"
      ],
      "metadata": {
        "id": "idD2uEWhZAvg",
        "colab": {
          "base_uri": "https://localhost:8080/"
        },
        "outputId": "8ec94ce3-7a94-479a-9905-03a99a168852"
      },
      "execution_count": null,
      "outputs": [
        {
          "output_type": "stream",
          "name": "stdout",
          "text": [
            "Correlation between 'next_day_stock_price' and 'date': None\n",
            "Correlation between 'next_day_stock_price' and 'weighted_avg_sentiment_score': -0.056001924905443916\n",
            "Correlation between 'next_day_stock_price' and 'daywise_median_positive_score': -0.173553885182898\n",
            "Correlation between 'next_day_stock_price' and 'daywise_median_negative_score': -0.045627865492120646\n",
            "Correlation between 'next_day_stock_price' and 'daywise_positive_tweet_count': 0.053944582672806024\n",
            "Correlation between 'next_day_stock_price' and 'daywise_negative_tweet_count': 0.030466484295782217\n",
            "Correlation between 'next_day_stock_price' and 'daywise_avg_replyCount': -0.01720829153289557\n",
            "Correlation between 'next_day_stock_price' and 'daywise_avg_retweetCount': 0.011498009676673596\n",
            "Correlation between 'next_day_stock_price' and 'daywise_avg_likeCount': 0.042426132091612494\n",
            "Correlation between 'next_day_stock_price' and 'daywise_avg_quoteCount': 0.009807518427078313\n",
            "Correlation between 'next_day_stock_price' and 'company': -0.11965053859348293\n",
            "Correlation between 'next_day_stock_price' and 'stock_price': 0.9956427554794608\n",
            "Correlation between 'next_day_stock_price' and 'trend': 0.032508323210988704\n"
          ]
        }
      ]
    },
    {
      "cell_type": "code",
      "source": [
        "from pyspark.sql.functions import col\n",
        "\n",
        "full_data_df.filter(col(\"next_day_stock_price\").isNull()).count()\n"
      ],
      "metadata": {
        "colab": {
          "base_uri": "https://localhost:8080/"
        },
        "id": "JFk3VxyhkVmr",
        "outputId": "5bd0339e-0001-4161-a266-46c19a000136"
      },
      "execution_count": null,
      "outputs": [
        {
          "output_type": "execute_result",
          "data": {
            "text/plain": [
              "0"
            ]
          },
          "metadata": {},
          "execution_count": 17
        }
      ]
    },
    {
      "cell_type": "code",
      "source": [],
      "metadata": {
        "id": "_QJAOMmeknq5"
      },
      "execution_count": null,
      "outputs": []
    },
    {
      "cell_type": "code",
      "source": [
        "full_data_df.dtypes"
      ],
      "metadata": {
        "colab": {
          "base_uri": "https://localhost:8080/"
        },
        "id": "6yco9r5zilMO",
        "outputId": "105c3820-f89a-46e4-83a6-cd3bc8b72038"
      },
      "execution_count": null,
      "outputs": [
        {
          "output_type": "execute_result",
          "data": {
            "text/plain": [
              "[('date', 'string'),\n",
              " ('weighted_avg_sentiment_score', 'double'),\n",
              " ('daywise_median_positive_score', 'double'),\n",
              " ('daywise_median_negative_score', 'double'),\n",
              " ('daywise_positive_tweet_count', 'bigint'),\n",
              " ('daywise_negative_tweet_count', 'bigint'),\n",
              " ('daywise_avg_replyCount', 'bigint'),\n",
              " ('daywise_avg_retweetCount', 'bigint'),\n",
              " ('daywise_avg_likeCount', 'bigint'),\n",
              " ('daywise_avg_quoteCount', 'bigint'),\n",
              " ('company', 'bigint'),\n",
              " ('stock_price', 'double'),\n",
              " ('next_day_stock_price', 'double'),\n",
              " ('trend', 'bigint')]"
            ]
          },
          "metadata": {},
          "execution_count": 18
        }
      ]
    },
    {
      "cell_type": "code",
      "source": [
        "from pyspark.sql.functions import col\n",
        "\n",
        "# Define the column you want to check for string datatype\n",
        "check_column = \"next_day_stock_price\"\n",
        "\n",
        "# Check if the column contains any string values\n",
        "if full_data_df.filter(col(check_column).isNull() | ~(col(check_column).cast(\"string\").eqNullSafe(col(check_column)))).count() > 0:\n",
        "    print(f\"{check_column} column contains string values.\")\n",
        "else:\n",
        "    print(f\"{check_column} column does not contain string values.\")\n"
      ],
      "metadata": {
        "colab": {
          "base_uri": "https://localhost:8080/"
        },
        "id": "LAPptUYOixsa",
        "outputId": "52e7f16d-a82e-4dce-a798-f6e644218e32"
      },
      "execution_count": null,
      "outputs": [
        {
          "output_type": "stream",
          "name": "stdout",
          "text": [
            "next_day_stock_price column does not contain string values.\n"
          ]
        }
      ]
    },
    {
      "cell_type": "code",
      "source": [
        "exclude_col = 'next_day_stock_price'\n",
        "\n",
        "# Get all column names except for the exclude column\n",
        "all_cols = [col_name for col_name in full_data_df.columns if col_name != exclude_col]\n",
        "\n",
        "all_cols"
      ],
      "metadata": {
        "colab": {
          "base_uri": "https://localhost:8080/"
        },
        "id": "HIZjq6UlhlZK",
        "outputId": "b6919747-cf31-4a07-fb12-75856efdacbe"
      },
      "execution_count": null,
      "outputs": [
        {
          "output_type": "execute_result",
          "data": {
            "text/plain": [
              "['date',\n",
              " 'weighted_avg_sentiment_score',\n",
              " 'daywise_median_positive_score',\n",
              " 'daywise_median_negative_score',\n",
              " 'daywise_positive_tweet_count',\n",
              " 'daywise_negative_tweet_count',\n",
              " 'daywise_avg_replyCount',\n",
              " 'daywise_avg_retweetCount',\n",
              " 'daywise_avg_likeCount',\n",
              " 'daywise_avg_quoteCount',\n",
              " 'company',\n",
              " 'stock_price',\n",
              " 'trend']"
            ]
          },
          "metadata": {},
          "execution_count": 20
        }
      ]
    },
    {
      "cell_type": "code",
      "source": [
        "full_data_df.dtypes"
      ],
      "metadata": {
        "colab": {
          "base_uri": "https://localhost:8080/"
        },
        "id": "EfDwqkTzcSM3",
        "outputId": "7cdf8f60-d560-40b0-c8bb-2a430979b948"
      },
      "execution_count": null,
      "outputs": [
        {
          "output_type": "execute_result",
          "data": {
            "text/plain": [
              "[('date', 'string'),\n",
              " ('weighted_avg_sentiment_score', 'double'),\n",
              " ('daywise_median_positive_score', 'double'),\n",
              " ('daywise_median_negative_score', 'double'),\n",
              " ('daywise_positive_tweet_count', 'bigint'),\n",
              " ('daywise_negative_tweet_count', 'bigint'),\n",
              " ('daywise_avg_replyCount', 'bigint'),\n",
              " ('daywise_avg_retweetCount', 'bigint'),\n",
              " ('daywise_avg_likeCount', 'bigint'),\n",
              " ('daywise_avg_quoteCount', 'bigint'),\n",
              " ('company', 'bigint'),\n",
              " ('stock_price', 'double'),\n",
              " ('next_day_stock_price', 'double'),\n",
              " ('trend', 'bigint')]"
            ]
          },
          "metadata": {},
          "execution_count": 21
        }
      ]
    },
    {
      "cell_type": "code",
      "source": [
        "from pyspark.sql.functions import sum as s"
      ],
      "metadata": {
        "id": "S2NmtG7QtfD0"
      },
      "execution_count": null,
      "outputs": []
    },
    {
      "cell_type": "code",
      "source": [
        "full_data_df.show()"
      ],
      "metadata": {
        "colab": {
          "base_uri": "https://localhost:8080/"
        },
        "id": "8iwPTfeeqJVr",
        "outputId": "21415e55-5e76-4dbd-d0e1-cd7c359c1ed7"
      },
      "execution_count": null,
      "outputs": [
        {
          "output_type": "stream",
          "name": "stdout",
          "text": [
            "+----------+----------------------------+-----------------------------+-----------------------------+----------------------------+----------------------------+----------------------+------------------------+---------------------+----------------------+-------+------------------+--------------------+-----+\n",
            "|      date|weighted_avg_sentiment_score|daywise_median_positive_score|daywise_median_negative_score|daywise_positive_tweet_count|daywise_negative_tweet_count|daywise_avg_replyCount|daywise_avg_retweetCount|daywise_avg_likeCount|daywise_avg_quoteCount|company|       stock_price|next_day_stock_price|trend|\n",
            "+----------+----------------------------+-----------------------------+-----------------------------+----------------------------+----------------------------+----------------------+------------------------+---------------------+----------------------+-------+------------------+--------------------+-----+\n",
            "|2022-01-03|          0.2750561151079136|                       0.5574|                       0.2732|                          11|                           1|                    82|                       6|                   33|                     3|      1|        144.991501|  144.39950561523438|    0|\n",
            "|2022-01-04|          0.1583875346260387|                       0.4019|                       0.1027|                          16|                           2|                    49|                       7|                   33|                     1|      1|        144.399506|  137.77499389648438|    0|\n",
            "|2022-01-05|          0.4617866753755714|                       0.4939|                       0.5859|                          20|                           4|                     4|                       8|                   59|                     1|      1|        137.774994|  137.74749755859375|    0|\n",
            "|2022-01-06|          0.4266574307304787|                       0.4215|                       0.6542|                          11|                           1|                    65|                       5|                   25|                     1|      1|        137.747498|  137.01699829101562|    0|\n",
            "|2022-01-07|          0.5710324579831934|                       0.5994|                       0.3182|                          18|                           2|                    57|                       5|                   48|                     1|      1|        137.016998|  140.38609313964844|    1|\n",
            "|2022-01-08|          0.1642296650717703|                       0.4404|                       0.7717|                           9|                           2|                    96|                       5|                   19|                     1|      1|140.38609313964844|  139.23475646972656|    0|\n",
            "|2022-01-09|          0.2746261904761904|                       0.4404|                         0.25|                           7|                           3|                     2|                       4|                   20|                     0|      1|139.23475646972656|  138.66949462890625|    0|\n",
            "|2022-01-10|          0.3661649171270718|                       0.4019|                          0.0|                          15|                           0|                    62|                      11|                   91|                     3|      1|        138.669495|  139.73599243164062|    1|\n",
            "|2022-01-11|          0.6635811586356252|                       0.4019|                          0.0|                          13|                           0|                     5|                      29|                  109|                     1|      1|        139.735992|   141.4304962158203|    1|\n",
            "|2022-01-12|          0.0062496208017334|                         0.34|                       0.4588|                          15|                           3|                     6|                       4|                   47|                     1|      1|        141.430496|  138.58700561523438|    0|\n",
            "|2022-01-13|          0.5683195819581959|                       0.5106|                        0.128|                          20|                           1|                     5|                       7|                   37|                     1|      1|        138.587006|  139.48049926757812|    1|\n",
            "|2022-01-14|          0.3757622596153845|                       0.4404|                       0.5994|                           9|                           3|                     2|                       3|                   32|                     1|      1|        139.480499|  139.58070373535156|    1|\n",
            "|2022-01-15|          0.4033400673400673|                        0.443|                       0.3612|                           7|                           1|                     5|                       7|                   27|                     1|      1|139.58070373535156|  139.80850219726562|    1|\n",
            "|2022-01-16|         -0.1555214234875444|                       0.6249|                       0.7096|                           7|                           4|                     9|                      18|                  101|                     2|      1|139.80850219726562|  139.83267211914062|    1|\n",
            "|2022-01-17|          0.3456697380729654|                       0.5423|                       0.6249|                          12|                           4|                   533|                      26|                  107|                     1|      1|139.83267211914062|   135.9980010986328|    0|\n",
            "|2022-01-18|                   0.2519472|                       0.4939|                       0.4019|                          15|                           4|                    43|                       7|                   29|                     1|      1|        135.998001|   135.1165008544922|    0|\n",
            "|2022-01-19|          0.4853315789473685|                       0.5719|                        0.128|                          17|                           1|                    67|                      28|                  170|                     1|      1|        135.116501|   133.3074951171875|    0|\n",
            "|2022-01-20|          0.2893941176470588|                       0.5574|                       0.3182|                           7|                           3|                     5|                      14|                   59|                     1|      1|        133.307495|  130.35150146484375|    0|\n",
            "|2022-01-21|          0.3305027982326951|                       0.6908|                       0.3612|                          14|                           1|                    57|                       8|                   34|                     2|      1|        130.351501|  133.69337463378906|    1|\n",
            "|2022-01-22|          0.1904087144790257|                       0.2263|                          0.0|                          10|                           0|                    66|                      49|                  218|                    12|      1|133.69337463378906|  133.69337463378906|    0|\n",
            "+----------+----------------------------+-----------------------------+-----------------------------+----------------------------+----------------------------+----------------------+------------------------+---------------------+----------------------+-------+------------------+--------------------+-----+\n",
            "only showing top 20 rows\n",
            "\n"
          ]
        }
      ]
    },
    {
      "cell_type": "code",
      "source": [],
      "metadata": {
        "id": "Xk0vml8Rho7A"
      },
      "execution_count": null,
      "outputs": []
    },
    {
      "cell_type": "code",
      "source": [
        "def calc(pair):\n",
        "    p1, p2 = pair\n",
        "    x1, y1 = p1\n",
        "    x2, y2 = p2\n",
        "    if (x1 == x2) and (y1 == y2):\n",
        "        return (\"t\", 1) #tie\n",
        "    elif ((x1 > x2) and (y1 > y2)) or ((x1 < x2) and (y1 < y2)):\n",
        "        return (\"c\", 1) #concordant pair\n",
        "    else:\n",
        "        return (\"d\", 1) #discordant pair\n"
      ],
      "metadata": {
        "id": "vrsNb5-e2o1P"
      },
      "execution_count": null,
      "outputs": []
    },
    {
      "cell_type": "code",
      "source": [
        "from operator import add \n",
        "for i in full_data_df.columns[1:-3]:\n",
        "  print(i)\n",
        "  example_data = zip(df[i], df['next_day_stock_price'])\n",
        "  example_rdd = sc.parallelize(example_data)\n",
        "\n",
        "#filer out all your null values. Row containing nulls will be removed\n",
        "  example_rdd = example_rdd.filter(lambda x: x is not None).filter(lambda x: x != \"\")\n",
        "\n",
        "#take the cartesian product of example data (generate all possible combinations)\n",
        "  all_pairs = example_rdd.cartesian(example_rdd)\n",
        "\n",
        "#function calculating concorant and disconordant pairs\n",
        "\n",
        "#rank all pairs and calculate concordant / disconrdant pairs with calc() then return results\n",
        "  results  = all_pairs.map(calc)\n",
        "\n",
        "#aggregate the results\n",
        "  results = results.aggregateByKey(0, add, add)\n",
        "\n",
        "#count and collect\n",
        "  n  = example_rdd.count()\n",
        "  d = {k: v for (k, v) in results.collect()}\n",
        "\n",
        "# http://en.wikipedia.org/wiki/Kendall_tau_rank_correlation_coefficient\n",
        "  tau = (d[\"c\"] - d[\"d\"]) / (0.5 * n * (n-1))\n",
        "  print('Kendall Correlation Between- '+ i + ' and '+'next_day_stock_price  is '+str(tau))"
      ],
      "metadata": {
        "id": "WqkPRsYxy962",
        "colab": {
          "base_uri": "https://localhost:8080/"
        },
        "outputId": "70468fb7-b99a-40e5-b2b5-f48c67c8f571"
      },
      "execution_count": null,
      "outputs": [
        {
          "output_type": "stream",
          "name": "stdout",
          "text": [
            "weighted_avg_sentiment_score\n",
            "Kendall Correlation Between- weighted_avg_sentiment_score and next_day_stock_price  is -0.08109893012812046\n",
            "daywise_median_positive_score\n",
            "Kendall Correlation Between- daywise_median_positive_score and next_day_stock_price  is -0.28898526052138523\n",
            "daywise_median_negative_score\n",
            "Kendall Correlation Between- daywise_median_negative_score and next_day_stock_price  is -0.15024068448318878\n",
            "daywise_positive_tweet_count\n",
            "Kendall Correlation Between- daywise_positive_tweet_count and next_day_stock_price  is -0.08730927466893654\n",
            "daywise_negative_tweet_count\n",
            "Kendall Correlation Between- daywise_negative_tweet_count and next_day_stock_price  is -0.2588043068825\n",
            "daywise_avg_replyCount\n",
            "Kendall Correlation Between- daywise_avg_replyCount and next_day_stock_price  is -0.1359916249626988\n",
            "daywise_avg_retweetCount\n",
            "Kendall Correlation Between- daywise_avg_retweetCount and next_day_stock_price  is -0.19392222760337938\n",
            "daywise_avg_likeCount\n",
            "Kendall Correlation Between- daywise_avg_likeCount and next_day_stock_price  is 0.04138354442145223\n",
            "daywise_avg_quoteCount\n",
            "Kendall Correlation Between- daywise_avg_quoteCount and next_day_stock_price  is -0.6901468566704335\n",
            "company\n",
            "Kendall Correlation Between- company and next_day_stock_price  is -0.40468625407867254\n"
          ]
        }
      ]
    },
    {
      "cell_type": "code",
      "source": [
        "from pyspark.sql.functions import desc\n",
        "sorted_quote_df = full_data_df.orderBy(desc(\"daywise_avg_quoteCount\"))"
      ],
      "metadata": {
        "id": "MrnuK-S0YirS"
      },
      "execution_count": null,
      "outputs": []
    },
    {
      "cell_type": "code",
      "source": [
        "sorted_quote_df.select(['daywise_positive_tweet_count','daywise_negative_tweet_count','daywise_avg_quoteCount']).show()"
      ],
      "metadata": {
        "id": "bSDsSCHjY_iY",
        "colab": {
          "base_uri": "https://localhost:8080/"
        },
        "outputId": "0871ddff-aff7-4167-faca-91382a31bd0d"
      },
      "execution_count": null,
      "outputs": [
        {
          "output_type": "stream",
          "name": "stdout",
          "text": [
            "+----------------------------+----------------------------+----------------------+\n",
            "|daywise_positive_tweet_count|daywise_negative_tweet_count|daywise_avg_quoteCount|\n",
            "+----------------------------+----------------------------+----------------------+\n",
            "|                          26|                           5|                    92|\n",
            "|                           9|                           1|                    83|\n",
            "|                          15|                           1|                    67|\n",
            "|                          11|                           3|                    65|\n",
            "|                           9|                           2|                    54|\n",
            "|                          12|                           4|                    49|\n",
            "|                          15|                           3|                    46|\n",
            "|                           6|                           0|                    43|\n",
            "|                          11|                           3|                    41|\n",
            "|                          18|                           3|                    40|\n",
            "|                           1|                           2|                    36|\n",
            "|                           7|                           1|                    32|\n",
            "|                          18|                           1|                    29|\n",
            "|                          11|                           2|                    29|\n",
            "|                          18|                           6|                    28|\n",
            "|                          10|                           3|                    26|\n",
            "|                          13|                           8|                    26|\n",
            "|                          11|                           1|                    25|\n",
            "|                          21|                           2|                    24|\n",
            "|                          21|                           8|                    21|\n",
            "+----------------------------+----------------------------+----------------------+\n",
            "only showing top 20 rows\n",
            "\n"
          ]
        }
      ]
    },
    {
      "cell_type": "code",
      "source": [],
      "metadata": {
        "id": "Ai_OGAPyQQY4"
      },
      "execution_count": null,
      "outputs": []
    },
    {
      "cell_type": "markdown",
      "source": [
        "**Normality test for all the columns**"
      ],
      "metadata": {
        "id": "UX5vMGQ9aqc_"
      }
    },
    {
      "cell_type": "code",
      "source": [
        "from pyspark.ml.feature import VectorAssembler\n",
        "from pyspark.ml.stat import ChiSquareTest\n",
        "from pyspark.sql.functions import col, isnan, when\n",
        "import numpy as np\n",
        "from scipy.stats import normaltest\n",
        "\n",
        "# Define columns to test\n",
        "test_columns = [col_name for col_name in full_data_df.columns if col_name != 'next_day_stock_price' and col_name != 'date' and full_data_df.select(col(col_name)).dtypes[0][1] != 'string']\n",
        "\n",
        "# Perform normality test on each column\n",
        "for column in test_columns:\n",
        "    column_data = full_data_df.select(col(column)).dropna().rdd.flatMap(lambda x: x).collect()\n",
        "    _, p_value = normaltest(column_data)\n",
        "    if p_value < 0.05:\n",
        "        print(f\"Column '{column}' is not normally distributed with p-value = {p_value}\")\n",
        "    else:\n",
        "        print(f\"Column '{column}' is normally distributed with p-value = {p_value}\")\n"
      ],
      "metadata": {
        "colab": {
          "base_uri": "https://localhost:8080/"
        },
        "id": "Iixs6LwNapiW",
        "outputId": "b7bae3ab-9671-41cc-d4fa-4b5c22c39c1e"
      },
      "execution_count": null,
      "outputs": [
        {
          "output_type": "stream",
          "name": "stdout",
          "text": [
            "Column 'weighted_avg_sentiment_score' is not normally distributed with p-value = 4.556746412354355e-32\n",
            "Column 'daywise_median_positive_score' is not normally distributed with p-value = 1.918395065118191e-05\n",
            "Column 'daywise_median_negative_score' is not normally distributed with p-value = 2.3882318638807222e-29\n",
            "Column 'daywise_positive_tweet_count' is not normally distributed with p-value = 0.0\n",
            "Column 'daywise_negative_tweet_count' is not normally distributed with p-value = 0.0\n",
            "Column 'daywise_avg_replyCount' is not normally distributed with p-value = 0.0\n",
            "Column 'daywise_avg_retweetCount' is not normally distributed with p-value = 0.0\n",
            "Column 'daywise_avg_likeCount' is not normally distributed with p-value = 0.0\n",
            "Column 'daywise_avg_quoteCount' is not normally distributed with p-value = 0.0\n",
            "Column 'company' is not normally distributed with p-value = 0.0\n",
            "Column 'stock_price' is not normally distributed with p-value = 8.524849615055439e-97\n",
            "Column 'trend' is not normally distributed with p-value = 0.0\n"
          ]
        }
      ]
    },
    {
      "cell_type": "markdown",
      "source": [
        "Homogenity Test"
      ],
      "metadata": {
        "id": "zxh-bAr6yre3"
      }
    },
    {
      "cell_type": "markdown",
      "source": [
        "# mann whitney U test\n"
      ],
      "metadata": {
        "id": "d0VblCA74eLO"
      }
    },
    {
      "cell_type": "markdown",
      "source": [
        "Null Hypothesis:The Mann–Whitney U test tests a null hypothesis of that the probability distribution of a randomly drawn observation from one group is the same as the probability distribution of a randomly drawn observation from the other group against an alternative that those distributions are not equal"
      ],
      "metadata": {
        "id": "9dkXaDW_z35n"
      }
    },
    {
      "cell_type": "code",
      "source": [
        "# trend_data=full_data_df.groupBy('trend')\n",
        "filtered_groups = full_data_df.filter(col('trend')==1)\n",
        "filtered_groups_0 = full_data_df.filter(col('trend')==0)"
      ],
      "metadata": {
        "id": "soZRn9DHsAu6"
      },
      "execution_count": null,
      "outputs": []
    },
    {
      "cell_type": "code",
      "source": [
        "from pyspark.sql.functions import collect_list\n",
        "\n",
        "# Assuming you have a dataframe named `df` with a column named `column_name`\n",
        "trend_1 = filtered_groups.select(collect_list(\"weighted_avg_sentiment_score\")).first()[0]\n",
        "\n"
      ],
      "metadata": {
        "id": "vGEnrat1r-hs"
      },
      "execution_count": null,
      "outputs": []
    },
    {
      "cell_type": "code",
      "source": [
        "from scipy.stats import mannwhitneyu\n",
        "\n",
        "for i in full_data_df.columns[1:-1]:\n",
        "  trend_0 = filtered_groups_0.select(collect_list(i)).first()[0]\n",
        "  trend_1 = filtered_groups.select(collect_list(i)).first()[0]\n",
        "\n",
        "  u_statistic, p_value = mannwhitneyu(trend_1, trend_0, alternative='two-sided')\n",
        "\n",
        "  print(\"Mann-Whitney U statistic:\", u_statistic)\n",
        "  print(\"P-value:\", p_value)\n",
        "\n",
        "  if(p_value<0.05):\n",
        "    print(i+'-rejects null hypothesis')\n",
        "  else:\n",
        "    print(i+'-It do not reject null hypothesis')"
      ],
      "metadata": {
        "colab": {
          "base_uri": "https://localhost:8080/"
        },
        "id": "JDzOZt3NxAVe",
        "outputId": "43e22b0c-26e9-4c51-de10-a7eb641e125e"
      },
      "execution_count": null,
      "outputs": [
        {
          "output_type": "stream",
          "name": "stdout",
          "text": [
            "Mann-Whitney U statistic: 418181.0\n",
            "P-value: 0.36000009161565605\n",
            "weighted_avg_sentiment_score-It do not reject null hypothesis\n",
            "Mann-Whitney U statistic: 413174.5\n",
            "P-value: 0.6422887233236398\n",
            "daywise_median_positive_score-It do not reject null hypothesis\n",
            "Mann-Whitney U statistic: 423430.0\n",
            "P-value: 0.1637278559717501\n",
            "daywise_median_negative_score-It do not reject null hypothesis\n",
            "Mann-Whitney U statistic: 415726.5\n",
            "P-value: 0.4871317269370381\n",
            "daywise_positive_tweet_count-It do not reject null hypothesis\n",
            "Mann-Whitney U statistic: 422741.5\n",
            "P-value: 0.17923791382646737\n",
            "daywise_negative_tweet_count-It do not reject null hypothesis\n",
            "Mann-Whitney U statistic: 400427.0\n",
            "P-value: 0.49170974673048673\n",
            "daywise_avg_replyCount-It do not reject null hypothesis\n",
            "Mann-Whitney U statistic: 399471.5\n",
            "P-value: 0.44013588919975044\n",
            "daywise_avg_retweetCount-It do not reject null hypothesis\n",
            "Mann-Whitney U statistic: 400451.5\n",
            "P-value: 0.4948483088817264\n",
            "daywise_avg_likeCount-It do not reject null hypothesis\n",
            "Mann-Whitney U statistic: 390752.5\n",
            "P-value: 0.08800025062537063\n",
            "daywise_avg_quoteCount-It do not reject null hypothesis\n",
            "Mann-Whitney U statistic: 414003.0\n",
            "P-value: 0.5823938992548544\n",
            "company-It do not reject null hypothesis\n",
            "Mann-Whitney U statistic: 393332.5\n",
            "P-value: 0.18541608013929056\n",
            "stock_price-It do not reject null hypothesis\n",
            "Mann-Whitney U statistic: 425997.5\n",
            "P-value: 0.10525281674563856\n",
            "next_day_stock_price-It do not reject null hypothesis\n"
          ]
        }
      ]
    },
    {
      "cell_type": "code",
      "source": [
        "full_data_df.columns"
      ],
      "metadata": {
        "colab": {
          "base_uri": "https://localhost:8080/"
        },
        "id": "uUwxQR9h0Agi",
        "outputId": "ca083ac5-56ce-4fa1-dbc5-c84578792779"
      },
      "execution_count": null,
      "outputs": [
        {
          "output_type": "execute_result",
          "data": {
            "text/plain": [
              "['date',\n",
              " 'weighted_avg_sentiment_score',\n",
              " 'daywise_median_positive_score',\n",
              " 'daywise_median_negative_score',\n",
              " 'daywise_positive_tweet_count',\n",
              " 'daywise_negative_tweet_count',\n",
              " 'daywise_avg_replyCount',\n",
              " 'daywise_avg_retweetCount',\n",
              " 'daywise_avg_likeCount',\n",
              " 'daywise_avg_quoteCount',\n",
              " 'company',\n",
              " 'stock_price',\n",
              " 'next_day_stock_price',\n",
              " 'trend']"
            ]
          },
          "metadata": {},
          "execution_count": 32
        }
      ]
    },
    {
      "cell_type": "markdown",
      "source": [
        "**Null Hypothesis:** The Mann–Whitney U test tests a null hypothesis of that the probability distribution of a randomly drawn observation from one group is the same as the probability distribution of a randomly drawn observation from the other group against an alternative that those distributions are not equal."
      ],
      "metadata": {
        "id": "GIgCbg_ev-N3"
      }
    },
    {
      "cell_type": "markdown",
      "source": [
        "# **Data Visualization**"
      ],
      "metadata": {
        "id": "Gj-5nPo-35iu"
      }
    },
    {
      "cell_type": "code",
      "source": [
        "import matplotlib.pyplot as plt\n",
        "\n",
        "# Convert the dataframe column to a list\n",
        "data = full_data_df.select('weighted_avg_sentiment_score').rdd.flatMap(lambda x: x).collect()\n",
        "\n",
        "# Plot the histogram\n",
        "plt.hist(data, bins=20)\n",
        "plt.show()\n"
      ],
      "metadata": {
        "colab": {
          "base_uri": "https://localhost:8080/",
          "height": 430
        },
        "id": "ORlVSDRJr7tX",
        "outputId": "67e4a008-5397-43a6-ece7-e40f3673084c"
      },
      "execution_count": null,
      "outputs": [
        {
          "output_type": "display_data",
          "data": {
            "text/plain": [
              "<Figure size 640x480 with 1 Axes>"
            ],
            "image/png": "[encoded data removed]"
          },
          "metadata": {}
        }
      ]
    },
    {
      "cell_type": "code",
      "source": [
        "import matplotlib.pyplot as plt\n",
        "\n",
        "# Convert the dataframe columns to lists\n",
        "x = full_data_df.select('daywise_avg_retweetCount').rdd.flatMap(lambda x: x).collect()\n",
        "y = full_data_df.select('daywise_avg_likeCount').rdd.flatMap(lambda x: x).collect()\n",
        "\n",
        "# Plot the scatter plot\n",
        "plt.scatter(x, y)\n",
        "plt.show()\n"
      ],
      "metadata": {
        "colab": {
          "base_uri": "https://localhost:8080/",
          "height": 430
        },
        "id": "JQWmM0x60riZ",
        "outputId": "79e375fe-d955-438e-fdc6-dedbd5794061"
      },
      "execution_count": null,
      "outputs": [
        {
          "output_type": "display_data",
          "data": {
            "text/plain": [
              "<Figure size 640x480 with 1 Axes>"
            ],
            "image/png": "[encoded data removed]"
          },
          "metadata": {}
        }
      ]
    },
    {
      "cell_type": "code",
      "source": [
        "company_1=full_data_df.filter(col('company')==1)\n",
        "company_2=full_data_df.filter(col('company')==2)\n",
        "company_3=full_data_df.filter(col('company')==3)\n",
        "company_4=full_data_df.filter(col('company')==4)\n",
        "company_5=full_data_df.filter(col('company')==5)"
      ],
      "metadata": {
        "id": "CqH9aDX2Jvw2"
      },
      "execution_count": null,
      "outputs": []
    },
    {
      "cell_type": "code",
      "source": [
        "company_1_date=full_data_df.filter(col('company')==1).select('date').rdd.flatMap(lambda x: x).collect()\n",
        "company_2_date=full_data_df.filter(col('company')==2).select('date').rdd.flatMap(lambda x: x).collect()\n",
        "company_3_date=full_data_df.filter(col('company')==3).select('date').rdd.flatMap(lambda x: x).collect()\n",
        "company_4_date=full_data_df.filter(col('company')==4).select('date').rdd.flatMap(lambda x: x).collect()\n",
        "company_5_date=full_data_df.filter(col('company')==5).select('date').rdd.flatMap(lambda x: x).collect()\n",
        "\n",
        "company_1_stock_price=full_data_df.filter(col('company')==1).select('stock_price').rdd.flatMap(lambda x: x).collect()\n",
        "company_2_stock_price=full_data_df.filter(col('company')==2).select('stock_price').rdd.flatMap(lambda x: x).collect()\n",
        "company_3_stock_price=full_data_df.filter(col('company')==3).select('stock_price').rdd.flatMap(lambda x: x).collect()\n",
        "company_4_stock_price=full_data_df.filter(col('company')==4).select('stock_price').rdd.flatMap(lambda x: x).collect()\n",
        "company_5_stock_price=full_data_df.filter(col('company')==5).select('stock_price').rdd.flatMap(lambda x: x).collect()\n"
      ],
      "metadata": {
        "id": "RFsgSh3j60Im"
      },
      "execution_count": null,
      "outputs": []
    },
    {
      "cell_type": "code",
      "source": [
        "import matplotlib.pyplot as plt\n",
        "\n",
        "# Plot the line plot\n",
        "plt.plot(company_1_date, company_1_stock_price, label='Company 1')\n",
        "plt.plot(company_2_date, company_2_stock_price, label='Company 2')\n",
        "plt.plot(company_3_date, company_3_stock_price, label='Company 3')\n",
        "plt.plot(company_4_date, company_4_stock_price, label='Company 4')\n",
        "plt.plot(company_5_date, company_5_stock_price, label='Company 5')\n",
        "\n",
        "plt.legend()\n",
        "plt.show()\n"
      ],
      "metadata": {
        "colab": {
          "base_uri": "https://localhost:8080/",
          "height": 430
        },
        "id": "6Au4_qrkr1hX",
        "outputId": "aa403522-7972-4b70-8580-0c0286776d95"
      },
      "execution_count": null,
      "outputs": [
        {
          "output_type": "display_data",
          "data": {
            "text/plain": [
              "<Figure size 640x480 with 1 Axes>"
            ],
            "image/png": "[encoded data removed]"
          },
          "metadata": {}
        }
      ]
    },
    {
      "cell_type": "code",
      "source": [
        "company_1_sen_score=full_data_df.filter(col('company')==1).select('weighted_avg_sentiment_score').rdd.flatMap(lambda x: x).collect()\n",
        "company_2_sen_score=full_data_df.filter(col('company')==2).select('weighted_avg_sentiment_score').rdd.flatMap(lambda x: x).collect()\n",
        "company_3_sen_score=full_data_df.filter(col('company')==3).select('weighted_avg_sentiment_score').rdd.flatMap(lambda x: x).collect()\n",
        "company_4_sen_score=full_data_df.filter(col('company')==4).select('weighted_avg_sentiment_score').rdd.flatMap(lambda x: x).collect()\n",
        "company_5_sen_score=full_data_df.filter(col('company')==5).select('weighted_avg_sentiment_score').rdd.flatMap(lambda x: x).collect()"
      ],
      "metadata": {
        "id": "LRchzeDy-atV"
      },
      "execution_count": null,
      "outputs": []
    },
    {
      "cell_type": "code",
      "source": [
        "plt.scatter(company_1_date, company_1_sen_score, label='Company 1')\n",
        "plt.scatter(company_2_date, company_2_sen_score, label='Company 2')\n",
        "plt.scatter(company_3_date, company_3_sen_score, label='Company 3')\n",
        "plt.scatter(company_4_date, company_4_sen_score, label='Company 4')\n",
        "plt.scatter(company_5_date, company_5_sen_score, label='Company 5')\n",
        "plt.plot()\n",
        "plt.legend()\n",
        "plt.show()"
      ],
      "metadata": {
        "colab": {
          "base_uri": "https://localhost:8080/",
          "height": 430
        },
        "id": "F_Bkr38Y8yzy",
        "outputId": "f3ec0db4-643d-49ef-afe1-973485da219a"
      },
      "execution_count": null,
      "outputs": [
        {
          "output_type": "display_data",
          "data": {
            "text/plain": [
              "<Figure size 640x480 with 1 Axes>"
            ],
            "image/png": "[encoded data removed]"
          },
          "metadata": {}
        }
      ]
    },
    {
      "cell_type": "code",
      "source": [
        "company_1_trend=full_data_df.filter(col('company')==1).select('trend').rdd.flatMap(lambda x: x).collect()\n",
        "company_2_trend=full_data_df.filter(col('company')==2).select('trend').rdd.flatMap(lambda x: x).collect()\n",
        "company_3_trend=full_data_df.filter(col('company')==3).select('trend').rdd.flatMap(lambda x: x).collect()\n",
        "company_4_trend=full_data_df.filter(col('company')==4).select('trend').rdd.flatMap(lambda x: x).collect()\n",
        "company_5_trend=full_data_df.filter(col('company')==5).select('trend').rdd.flatMap(lambda x: x).collect()"
      ],
      "metadata": {
        "id": "pPGW3YT589NZ"
      },
      "execution_count": null,
      "outputs": []
    },
    {
      "cell_type": "code",
      "source": [
        "full_data_df.groupBy('company').avg('weighted_avg_sentiment_score').show()"
      ],
      "metadata": {
        "colab": {
          "base_uri": "https://localhost:8080/"
        },
        "id": "-kLJo-mF89Re",
        "outputId": "c1cd42ef-dd6c-4295-d2bd-a460121fb5a8"
      },
      "execution_count": null,
      "outputs": [
        {
          "output_type": "stream",
          "name": "stdout",
          "text": [
            "+-------+---------------------------------+\n",
            "|company|avg(weighted_avg_sentiment_score)|\n",
            "+-------+---------------------------------+\n",
            "|      1|              0.33156520717106963|\n",
            "|      3|               0.2930648025215452|\n",
            "|      2|              0.29828924775995624|\n",
            "|      5|                 0.31211831950199|\n",
            "|      4|               0.3820063783245936|\n",
            "+-------+---------------------------------+\n",
            "\n"
          ]
        }
      ]
    },
    {
      "cell_type": "code",
      "source": [
        "from pyspark.sql.functions import avg, window\n",
        "\n",
        "# Define the window specification\n",
        "window_spec = window(\"date\", \"7 days\")\n",
        "\n",
        "# Group data by every 7 days and calculate mean of columns\n",
        "company_1_week=company_1.groupBy(window_spec.alias(\"week\")).agg(avg('weighted_avg_sentiment_score').alias('mean_weighted_avg_sentiment_score'),\n",
        "                                                avg('daywise_median_positive_score').alias('mean_daywise_median_positive_score'),\n",
        "                                                avg('daywise_median_negative_score').alias('mean_daywise_median_negative_score'),\n",
        "                                                avg('daywise_positive_tweet_count').alias('mean_daywise_positive_tweet_count'),\n",
        "                                                avg('daywise_negative_tweet_count').alias('mean_daywise_negative_tweet_count'),\n",
        "                                                avg('daywise_avg_replyCount').alias('mean_daywise_avg_replyCount'),\n",
        "                                                avg('daywise_avg_retweetCount').alias('mean_daywise_avg_retweetCount'),\n",
        "                                                avg('daywise_avg_likeCount').alias('mean_daywise_avg_likeCount'),\n",
        "                                                avg('daywise_avg_quoteCount').alias('mean_daywise_avg_quoteCount'),\n",
        "                                                round(avg('trend').).alias('mean_trend')).orderBy('week')\n"
      ],
      "metadata": {
        "colab": {
          "base_uri": "https://localhost:8080/",
          "height": 131
        },
        "id": "-gpAus1gGtEo",
        "outputId": "4c07d5b0-df11-4042-a0ea-cb8bccba15c8"
      },
      "execution_count": null,
      "outputs": [
        {
          "output_type": "error",
          "ename": "SyntaxError",
          "evalue": "ignored",
          "traceback": [
            "\u001b[0;36m  File \u001b[0;32m\"<ipython-input-42-6d6e5a36e9f4>\"\u001b[0;36m, line \u001b[0;32m16\u001b[0m\n\u001b[0;31m    round(avg('trend').).alias('mean_trend')).orderBy('week')\u001b[0m\n\u001b[0m                       ^\u001b[0m\n\u001b[0;31mSyntaxError\u001b[0m\u001b[0;31m:\u001b[0m invalid syntax\n"
          ]
        }
      ]
    },
    {
      "cell_type": "code",
      "source": [
        "round(3.1,2)"
      ],
      "metadata": {
        "id": "KPEkSPY3Bq1h"
      },
      "execution_count": null,
      "outputs": []
    },
    {
      "cell_type": "code",
      "source": [
        "company_1_week.show()"
      ],
      "metadata": {
        "colab": {
          "base_uri": "https://localhost:8080/",
          "height": 166
        },
        "id": "2GeeRgOzK_MD",
        "outputId": "3449ebf9-54b0-4d22-f268-2ab1de1b736c"
      },
      "execution_count": null,
      "outputs": [
        {
          "output_type": "error",
          "ename": "NameError",
          "evalue": "ignored",
          "traceback": [
            "\u001b[0;31m---------------------------------------------------------------------------\u001b[0m",
            "\u001b[0;31mNameError\u001b[0m                                 Traceback (most recent call last)",
            "\u001b[0;32m<ipython-input-43-d13eba5f907d>\u001b[0m in \u001b[0;36m<cell line: 1>\u001b[0;34m()\u001b[0m\n\u001b[0;32m----> 1\u001b[0;31m \u001b[0mcompany_1_week\u001b[0m\u001b[0;34m.\u001b[0m\u001b[0mshow\u001b[0m\u001b[0;34m(\u001b[0m\u001b[0;34m)\u001b[0m\u001b[0;34m\u001b[0m\u001b[0;34m\u001b[0m\u001b[0m\n\u001b[0m",
            "\u001b[0;31mNameError\u001b[0m: name 'company_1_week' is not defined"
          ]
        }
      ]
    },
    {
      "cell_type": "code",
      "source": [
        "round(0.3)"
      ],
      "metadata": {
        "id": "CQSRVRWwQ-wp"
      },
      "execution_count": null,
      "outputs": []
    },
    {
      "cell_type": "code",
      "source": [
        "company_1_week_trend=company_1_week.select('mean_trend').rdd.flatMap(lambda x: x).collect()\n",
        "company_1_week_sen_score=company_1_week.select('mean_weighted_avg_sentiment_score').rdd.flatMap(lambda x: x).collect()"
      ],
      "metadata": {
        "id": "9xAVTfTpKB5z"
      },
      "execution_count": null,
      "outputs": []
    },
    {
      "cell_type": "code",
      "source": [
        "plt.scatter(company_1_week_sen_score, company_1_week_trend, label='Company 1')"
      ],
      "metadata": {
        "id": "FvuyA_MVKCBv"
      },
      "execution_count": null,
      "outputs": []
    },
    {
      "cell_type": "code",
      "source": [
        "company_1_week_sen_score"
      ],
      "metadata": {
        "id": "jBP4mWn8KCQ6"
      },
      "execution_count": null,
      "outputs": []
    },
    {
      "cell_type": "code",
      "source": [
        "data = full_data_df.select(\"weighted_avg_sentiment_score\", \"date\",'company').collect()\n",
        "nested_list = [[row.weighted_avg_sentiment_score, row.date,row.company] for row in data]\n",
        "len(nested_list)"
      ],
      "metadata": {
        "colab": {
          "base_uri": "https://localhost:8080/"
        },
        "id": "VIeM3FMtWl5H",
        "outputId": "92ad6ca1-2edf-4f77-e4c0-e2167a669d52"
      },
      "execution_count": null,
      "outputs": [
        {
          "output_type": "execute_result",
          "data": {
            "text/plain": [
              "1809"
            ]
          },
          "metadata": {},
          "execution_count": 44
        }
      ]
    },
    {
      "cell_type": "code",
      "source": [
        "positive_values=list(filter(lambda x: x[0] > 0, nested_list))\n",
        "negative_values=list(filter(lambda x: x[0]<=0, nested_list))\n",
        "len(positive_values),len(negative_values)"
      ],
      "metadata": {
        "id": "k0Qdc1-JYa61",
        "colab": {
          "base_uri": "https://localhost:8080/"
        },
        "outputId": "8906f8c8-390f-4313-a17d-06656d8f3b20"
      },
      "execution_count": null,
      "outputs": [
        {
          "output_type": "execute_result",
          "data": {
            "text/plain": [
              "(1669, 140)"
            ]
          },
          "metadata": {},
          "execution_count": 45
        }
      ]
    },
    {
      "cell_type": "code",
      "source": [
        "positive_values[-1][0]=int(round(positive_values[-1][0],0))\n",
        "negative_values[-1][0]=int(round(negative_values[-1][0],0))\n",
        "positive_values[-1],negative_values[-1]"
      ],
      "metadata": {
        "colab": {
          "base_uri": "https://localhost:8080/"
        },
        "id": "NI9zwOPzZSh3",
        "outputId": "416ee6c3-52b2-421b-fa2c-22b2605cb233"
      },
      "execution_count": null,
      "outputs": [
        {
          "output_type": "execute_result",
          "data": {
            "text/plain": [
              "([1, '2022-12-30', 5], [0, '2022-12-29', 5])"
            ]
          },
          "metadata": {},
          "execution_count": 46
        }
      ]
    },
    {
      "cell_type": "code",
      "source": [
        "\n",
        "result=[]\n",
        "for i in range(len(positive_values)-1):\n",
        "    if positive_values[i+1][0] - positive_values[i][0] < 0:\n",
        "        result.append([0,positive_values[i+1][1],positive_values[i+1][2]])\n",
        "    else:\n",
        "        result.append([1,positive_values[i+1][1],positive_values[i+1][2]])\n",
        "\n",
        "print(len(result))  \n",
        "\n",
        "result1=[]\n",
        "for i in range(len(negative_values)-1):\n",
        "    if negative_values[i+1][0] - negative_values[i][0] < 0:\n",
        "        result1.append([0,negative_values[i+1][1],negative_values[i+1][2]])\n",
        "    else:\n",
        "        result1.append([1,negative_values[i+1][1],negative_values[i+1][2]])\n",
        "\n",
        "print(len(result1))  \n",
        "\n",
        "result.append(positive_values[-1])\n",
        "result1.append(negative_values[-1])\n",
        "full=result+result1\n",
        "len(result),len(result1),len(full)"
      ],
      "metadata": {
        "colab": {
          "base_uri": "https://localhost:8080/"
        },
        "id": "30ZD2b9IUVqr",
        "outputId": "0f7b745c-f5d7-4f1e-b718-d9ba0c05905e"
      },
      "execution_count": null,
      "outputs": [
        {
          "output_type": "stream",
          "name": "stdout",
          "text": [
            "1668\n",
            "139\n"
          ]
        },
        {
          "output_type": "execute_result",
          "data": {
            "text/plain": [
              "(1669, 140, 1809)"
            ]
          },
          "metadata": {},
          "execution_count": 47
        }
      ]
    },
    {
      "cell_type": "code",
      "source": [
        "print(full[-1])\n",
        "full.sort(key=lambda x: x[1])"
      ],
      "metadata": {
        "colab": {
          "base_uri": "https://localhost:8080/"
        },
        "id": "Ygpo6AHQ4uf7",
        "outputId": "a93698bb-0cc6-4fb7-ecef-b10f1b60dfd5"
      },
      "execution_count": null,
      "outputs": [
        {
          "output_type": "stream",
          "name": "stdout",
          "text": [
            "[0, '2022-12-29', 5]\n"
          ]
        }
      ]
    },
    {
      "cell_type": "code",
      "source": [
        "from pyspark.sql import  Row\n",
        "# convert the list to a list of Rows\n",
        "rows = [Row(sent_trend=name, date=age,company=c) for name, age,c in full]\n",
        "\n",
        "# create a PySpark DataFrame from the list of Rows\n",
        "df_rd = spark.createDataFrame(rows)\n",
        "\n",
        "# show the DataFrame\n",
        "df_rd.show()"
      ],
      "metadata": {
        "colab": {
          "base_uri": "https://localhost:8080/"
        },
        "id": "ZKxARap85KXj",
        "outputId": "233f8936-1be3-4fed-de13-2048fc49aee3"
      },
      "execution_count": null,
      "outputs": [
        {
          "output_type": "stream",
          "name": "stdout",
          "text": [
            "+----------+----------+-------+\n",
            "|sent_trend|      date|company|\n",
            "+----------+----------+-------+\n",
            "|         1|2022-01-03|      2|\n",
            "|         0|2022-01-03|      3|\n",
            "|         0|2022-01-03|      4|\n",
            "|         0|2022-01-03|      5|\n",
            "|         0|2022-01-04|      1|\n",
            "|         1|2022-01-04|      2|\n",
            "|         1|2022-01-04|      3|\n",
            "|         1|2022-01-04|      4|\n",
            "|         1|2022-01-04|      5|\n",
            "|         1|2022-01-05|      1|\n",
            "|         0|2022-01-05|      2|\n",
            "|         1|2022-01-05|      3|\n",
            "|         0|2022-01-05|      4|\n",
            "|         1|2022-01-05|      5|\n",
            "|         0|2022-01-06|      1|\n",
            "|         1|2022-01-06|      2|\n",
            "|         0|2022-01-06|      3|\n",
            "|         1|2022-01-06|      4|\n",
            "|         0|2022-01-06|      5|\n",
            "|         1|2022-01-07|      1|\n",
            "+----------+----------+-------+\n",
            "only showing top 20 rows\n",
            "\n"
          ]
        }
      ]
    },
    {
      "cell_type": "code",
      "source": [
        "df_rdp=df_rd.toPandas()\n",
        "df_rdp.dtypes,df.dtypes"
      ],
      "metadata": {
        "colab": {
          "base_uri": "https://localhost:8080/"
        },
        "id": "EuMBa-Un7non",
        "outputId": "0b7497e4-50a9-44cd-8cc9-c26e8c02749e"
      },
      "execution_count": null,
      "outputs": [
        {
          "output_type": "execute_result",
          "data": {
            "text/plain": [
              "(sent_trend     int64\n",
              " date          object\n",
              " company        int64\n",
              " dtype: object,\n",
              " date                              object\n",
              " weighted_avg_sentiment_score     float64\n",
              " daywise_median_positive_score    float64\n",
              " daywise_median_negative_score    float64\n",
              " daywise_positive_tweet_count       int64\n",
              " daywise_negative_tweet_count       int64\n",
              " daywise_avg_replyCount             int64\n",
              " daywise_avg_retweetCount           int64\n",
              " daywise_avg_likeCount              int64\n",
              " daywise_avg_quoteCount             int64\n",
              " company                            int64\n",
              " stock_price                      float64\n",
              " next_day_stock_price             float64\n",
              " trend                              int64\n",
              " dtype: object)"
            ]
          },
          "metadata": {},
          "execution_count": 50
        }
      ]
    },
    {
      "cell_type": "code",
      "source": [
        "joined_df = pd.merge(df, df_rdp, on=[\"date\",'company'], how=\"inner\")\n",
        "joined_df.isna()"
      ],
      "metadata": {
        "colab": {
          "base_uri": "https://localhost:8080/",
          "height": 487
        },
        "id": "MzkLWWrmc_0A",
        "outputId": "55418e47-b253-4998-82be-143eb405ae61"
      },
      "execution_count": null,
      "outputs": [
        {
          "output_type": "execute_result",
          "data": {
            "text/plain": [
              "       date  weighted_avg_sentiment_score  daywise_median_positive_score  \\\n",
              "0     False                         False                          False   \n",
              "1     False                         False                          False   \n",
              "2     False                         False                          False   \n",
              "3     False                         False                          False   \n",
              "4     False                         False                          False   \n",
              "...     ...                           ...                            ...   \n",
              "1804  False                         False                          False   \n",
              "1805  False                         False                          False   \n",
              "1806  False                         False                          False   \n",
              "1807  False                         False                          False   \n",
              "1808  False                         False                          False   \n",
              "\n",
              "      daywise_median_negative_score  daywise_positive_tweet_count  \\\n",
              "0                             False                         False   \n",
              "1                             False                         False   \n",
              "2                             False                         False   \n",
              "3                             False                         False   \n",
              "4                             False                         False   \n",
              "...                             ...                           ...   \n",
              "1804                          False                         False   \n",
              "1805                          False                         False   \n",
              "1806                          False                         False   \n",
              "1807                          False                         False   \n",
              "1808                          False                         False   \n",
              "\n",
              "      daywise_negative_tweet_count  daywise_avg_replyCount  \\\n",
              "0                            False                   False   \n",
              "1                            False                   False   \n",
              "2                            False                   False   \n",
              "3                            False                   False   \n",
              "4                            False                   False   \n",
              "...                            ...                     ...   \n",
              "1804                         False                   False   \n",
              "1805                         False                   False   \n",
              "1806                         False                   False   \n",
              "1807                         False                   False   \n",
              "1808                         False                   False   \n",
              "\n",
              "      daywise_avg_retweetCount  daywise_avg_likeCount  daywise_avg_quoteCount  \\\n",
              "0                        False                  False                   False   \n",
              "1                        False                  False                   False   \n",
              "2                        False                  False                   False   \n",
              "3                        False                  False                   False   \n",
              "4                        False                  False                   False   \n",
              "...                        ...                    ...                     ...   \n",
              "1804                     False                  False                   False   \n",
              "1805                     False                  False                   False   \n",
              "1806                     False                  False                   False   \n",
              "1807                     False                  False                   False   \n",
              "1808                     False                  False                   False   \n",
              "\n",
              "      company  stock_price  next_day_stock_price  trend  sent_trend  \n",
              "0       False        False                 False  False       False  \n",
              "1       False        False                 False  False       False  \n",
              "2       False        False                 False  False       False  \n",
              "3       False        False                 False  False       False  \n",
              "4       False        False                 False  False       False  \n",
              "...       ...          ...                   ...    ...         ...  \n",
              "1804    False        False                 False  False       False  \n",
              "1805    False        False                 False  False       False  \n",
              "1806    False        False                 False  False       False  \n",
              "1807    False        False                 False  False       False  \n",
              "1808    False        False                 False  False       False  \n",
              "\n",
              "[1809 rows x 15 columns]"
            ],
            "text/html": [
              "\n",
              "  <div id=\"df-027fee21-56bf-452b-a5de-3b4eb37be3ec\">\n",
              "    <div class=\"colab-df-container\">\n",
              "      <div>\n",
              "<style scoped>\n",
              "    .dataframe tbody tr th:only-of-type {\n",
              "        vertical-align: middle;\n",
              "    }\n",
              "\n",
              "    .dataframe tbody tr th {\n",
              "        vertical-align: top;\n",
              "    }\n",
              "\n",
              "    .dataframe thead th {\n",
              "        text-align: right;\n",
              "    }\n",
              "</style>\n",
              "<table border=\"1\" class=\"dataframe\">\n",
              "  <thead>\n",
              "    <tr style=\"text-align: right;\">\n",
              "      <th></th>\n",
              "      <th>date</th>\n",
              "      <th>weighted_avg_sentiment_score</th>\n",
              "      <th>daywise_median_positive_score</th>\n",
              "      <th>daywise_median_negative_score</th>\n",
              "      <th>daywise_positive_tweet_count</th>\n",
              "      <th>daywise_negative_tweet_count</th>\n",
              "      <th>daywise_avg_replyCount</th>\n",
              "      <th>daywise_avg_retweetCount</th>\n",
              "      <th>daywise_avg_likeCount</th>\n",
              "      <th>daywise_avg_quoteCount</th>\n",
              "      <th>company</th>\n",
              "      <th>stock_price</th>\n",
              "      <th>next_day_stock_price</th>\n",
              "      <th>trend</th>\n",
              "      <th>sent_trend</th>\n",
              "    </tr>\n",
              "  </thead>\n",
              "  <tbody>\n",
              "    <tr>\n",
              "      <th>0</th>\n",
              "      <td>False</td>\n",
              "      <td>False</td>\n",
              "      <td>False</td>\n",
              "      <td>False</td>\n",
              "      <td>False</td>\n",
              "      <td>False</td>\n",
              "      <td>False</td>\n",
              "      <td>False</td>\n",
              "      <td>False</td>\n",
              "      <td>False</td>\n",
              "      <td>False</td>\n",
              "      <td>False</td>\n",
              "      <td>False</td>\n",
              "      <td>False</td>\n",
              "      <td>False</td>\n",
              "    </tr>\n",
              "    <tr>\n",
              "      <th>1</th>\n",
              "      <td>False</td>\n",
              "      <td>False</td>\n",
              "      <td>False</td>\n",
              "      <td>False</td>\n",
              "      <td>False</td>\n",
              "      <td>False</td>\n",
              "      <td>False</td>\n",
              "      <td>False</td>\n",
              "      <td>False</td>\n",
              "      <td>False</td>\n",
              "      <td>False</td>\n",
              "      <td>False</td>\n",
              "      <td>False</td>\n",
              "      <td>False</td>\n",
              "      <td>False</td>\n",
              "    </tr>\n",
              "    <tr>\n",
              "      <th>2</th>\n",
              "      <td>False</td>\n",
              "      <td>False</td>\n",
              "      <td>False</td>\n",
              "      <td>False</td>\n",
              "      <td>False</td>\n",
              "      <td>False</td>\n",
              "      <td>False</td>\n",
              "      <td>False</td>\n",
              "      <td>False</td>\n",
              "      <td>False</td>\n",
              "      <td>False</td>\n",
              "      <td>False</td>\n",
              "      <td>False</td>\n",
              "      <td>False</td>\n",
              "      <td>False</td>\n",
              "    </tr>\n",
              "    <tr>\n",
              "      <th>3</th>\n",
              "      <td>False</td>\n",
              "      <td>False</td>\n",
              "      <td>False</td>\n",
              "      <td>False</td>\n",
              "      <td>False</td>\n",
              "      <td>False</td>\n",
              "      <td>False</td>\n",
              "      <td>False</td>\n",
              "      <td>False</td>\n",
              "      <td>False</td>\n",
              "      <td>False</td>\n",
              "      <td>False</td>\n",
              "      <td>False</td>\n",
              "      <td>False</td>\n",
              "      <td>False</td>\n",
              "    </tr>\n",
              "    <tr>\n",
              "      <th>4</th>\n",
              "      <td>False</td>\n",
              "      <td>False</td>\n",
              "      <td>False</td>\n",
              "      <td>False</td>\n",
              "      <td>False</td>\n",
              "      <td>False</td>\n",
              "      <td>False</td>\n",
              "      <td>False</td>\n",
              "      <td>False</td>\n",
              "      <td>False</td>\n",
              "      <td>False</td>\n",
              "      <td>False</td>\n",
              "      <td>False</td>\n",
              "      <td>False</td>\n",
              "      <td>False</td>\n",
              "    </tr>\n",
              "    <tr>\n",
              "      <th>...</th>\n",
              "      <td>...</td>\n",
              "      <td>...</td>\n",
              "      <td>...</td>\n",
              "      <td>...</td>\n",
              "      <td>...</td>\n",
              "      <td>...</td>\n",
              "      <td>...</td>\n",
              "      <td>...</td>\n",
              "      <td>...</td>\n",
              "      <td>...</td>\n",
              "      <td>...</td>\n",
              "      <td>...</td>\n",
              "      <td>...</td>\n",
              "      <td>...</td>\n",
              "      <td>...</td>\n",
              "    </tr>\n",
              "    <tr>\n",
              "      <th>1804</th>\n",
              "      <td>False</td>\n",
              "      <td>False</td>\n",
              "      <td>False</td>\n",
              "      <td>False</td>\n",
              "      <td>False</td>\n",
              "      <td>False</td>\n",
              "      <td>False</td>\n",
              "      <td>False</td>\n",
              "      <td>False</td>\n",
              "      <td>False</td>\n",
              "      <td>False</td>\n",
              "      <td>False</td>\n",
              "      <td>False</td>\n",
              "      <td>False</td>\n",
              "      <td>False</td>\n",
              "    </tr>\n",
              "    <tr>\n",
              "      <th>1805</th>\n",
              "      <td>False</td>\n",
              "      <td>False</td>\n",
              "      <td>False</td>\n",
              "      <td>False</td>\n",
              "      <td>False</td>\n",
              "      <td>False</td>\n",
              "      <td>False</td>\n",
              "      <td>False</td>\n",
              "      <td>False</td>\n",
              "      <td>False</td>\n",
              "      <td>False</td>\n",
              "      <td>False</td>\n",
              "      <td>False</td>\n",
              "      <td>False</td>\n",
              "      <td>False</td>\n",
              "    </tr>\n",
              "    <tr>\n",
              "      <th>1806</th>\n",
              "      <td>False</td>\n",
              "      <td>False</td>\n",
              "      <td>False</td>\n",
              "      <td>False</td>\n",
              "      <td>False</td>\n",
              "      <td>False</td>\n",
              "      <td>False</td>\n",
              "      <td>False</td>\n",
              "      <td>False</td>\n",
              "      <td>False</td>\n",
              "      <td>False</td>\n",
              "      <td>False</td>\n",
              "      <td>False</td>\n",
              "      <td>False</td>\n",
              "      <td>False</td>\n",
              "    </tr>\n",
              "    <tr>\n",
              "      <th>1807</th>\n",
              "      <td>False</td>\n",
              "      <td>False</td>\n",
              "      <td>False</td>\n",
              "      <td>False</td>\n",
              "      <td>False</td>\n",
              "      <td>False</td>\n",
              "      <td>False</td>\n",
              "      <td>False</td>\n",
              "      <td>False</td>\n",
              "      <td>False</td>\n",
              "      <td>False</td>\n",
              "      <td>False</td>\n",
              "      <td>False</td>\n",
              "      <td>False</td>\n",
              "      <td>False</td>\n",
              "    </tr>\n",
              "    <tr>\n",
              "      <th>1808</th>\n",
              "      <td>False</td>\n",
              "      <td>False</td>\n",
              "      <td>False</td>\n",
              "      <td>False</td>\n",
              "      <td>False</td>\n",
              "      <td>False</td>\n",
              "      <td>False</td>\n",
              "      <td>False</td>\n",
              "      <td>False</td>\n",
              "      <td>False</td>\n",
              "      <td>False</td>\n",
              "      <td>False</td>\n",
              "      <td>False</td>\n",
              "      <td>False</td>\n",
              "      <td>False</td>\n",
              "    </tr>\n",
              "  </tbody>\n",
              "</table>\n",
              "<p>1809 rows × 15 columns</p>\n",
              "</div>\n",
              "      <button class=\"colab-df-convert\" onclick=\"convertToInteractive('df-027fee21-56bf-452b-a5de-3b4eb37be3ec')\"\n",
              "              title=\"Convert this dataframe to an interactive table.\"\n",
              "              style=\"display:none;\">\n",
              "        \n",
              "  <svg xmlns=\"http://www.w3.org/2000/svg\" height=\"24px\"viewBox=\"0 0 24 24\"\n",
              "       width=\"24px\">\n",
              "    <path d=\"M0 0h24v24H0V0z\" fill=\"none\"/>\n",
              "    <path d=\"M18.56 5.44l.94 2.06.94-2.06 2.06-.94-2.06-.94-.94-2.06-.94 2.06-2.06.94zm-11 1L8.5 8.5l.94-2.06 2.06-.94-2.06-.94L8.5 2.5l-.94 2.06-2.06.94zm10 10l.94 2.06.94-2.06 2.06-.94-2.06-.94-.94-2.06-.94 2.06-2.06.94z\"/><path d=\"M17.41 7.96l-1.37-1.37c-.4-.4-.92-.59-1.43-.59-.52 0-1.04.2-1.43.59L10.3 9.45l-7.72 7.72c-.78.78-.78 2.05 0 2.83L4 21.41c.39.39.9.59 1.41.59.51 0 1.02-.2 1.41-.59l7.78-7.78 2.81-2.81c.8-.78.8-2.07 0-2.86zM5.41 20L4 18.59l7.72-7.72 1.47 1.35L5.41 20z\"/>\n",
              "  </svg>\n",
              "      </button>\n",
              "      \n",
              "  <style>\n",
              "    .colab-df-container {\n",
              "      display:flex;\n",
              "      flex-wrap:wrap;\n",
              "      gap: 12px;\n",
              "    }\n",
              "\n",
              "    .colab-df-convert {\n",
              "      background-color: #E8F0FE;\n",
              "      border: none;\n",
              "      border-radius: 50%;\n",
              "      cursor: pointer;\n",
              "      display: none;\n",
              "      fill: #1967D2;\n",
              "      height: 32px;\n",
              "      padding: 0 0 0 0;\n",
              "      width: 32px;\n",
              "    }\n",
              "\n",
              "    .colab-df-convert:hover {\n",
              "      background-color: #E2EBFA;\n",
              "      box-shadow: 0px 1px 2px rgba(60, 64, 67, 0.3), 0px 1px 3px 1px rgba(60, 64, 67, 0.15);\n",
              "      fill: #174EA6;\n",
              "    }\n",
              "\n",
              "    [theme=dark] .colab-df-convert {\n",
              "      background-color: #3B4455;\n",
              "      fill: #D2E3FC;\n",
              "    }\n",
              "\n",
              "    [theme=dark] .colab-df-convert:hover {\n",
              "      background-color: #434B5C;\n",
              "      box-shadow: 0px 1px 3px 1px rgba(0, 0, 0, 0.15);\n",
              "      filter: drop-shadow(0px 1px 2px rgba(0, 0, 0, 0.3));\n",
              "      fill: #FFFFFF;\n",
              "    }\n",
              "  </style>\n",
              "\n",
              "      <script>\n",
              "        const buttonEl =\n",
              "          document.querySelector('#df-027fee21-56bf-452b-a5de-3b4eb37be3ec button.colab-df-convert');\n",
              "        buttonEl.style.display =\n",
              "          google.colab.kernel.accessAllowed ? 'block' : 'none';\n",
              "\n",
              "        async function convertToInteractive(key) {\n",
              "          const element = document.querySelector('#df-027fee21-56bf-452b-a5de-3b4eb37be3ec');\n",
              "          const dataTable =\n",
              "            await google.colab.kernel.invokeFunction('convertToInteractive',\n",
              "                                                     [key], {});\n",
              "          if (!dataTable) return;\n",
              "\n",
              "          const docLinkHtml = 'Like what you see? Visit the ' +\n",
              "            '<a target=\"_blank\" href=https://colab.research.google.com/notebooks/data_table.ipynb>data table notebook</a>'\n",
              "            + ' to learn more about interactive tables.';\n",
              "          element.innerHTML = '';\n",
              "          dataTable['output_type'] = 'display_data';\n",
              "          await google.colab.output.renderOutput(dataTable, element);\n",
              "          const docLink = document.createElement('div');\n",
              "          docLink.innerHTML = docLinkHtml;\n",
              "          element.appendChild(docLink);\n",
              "        }\n",
              "      </script>\n",
              "    </div>\n",
              "  </div>\n",
              "  "
            ]
          },
          "metadata": {},
          "execution_count": 51
        }
      ]
    },
    {
      "cell_type": "code",
      "source": [
        "full_data_df = full_data_df.join(df_rd, on=[\"date\",'company'], how=\"inner\")\n",
        "\n",
        "# show the joined DataFrame\n",
        "full_data_df.count()"
      ],
      "metadata": {
        "colab": {
          "base_uri": "https://localhost:8080/",
          "height": 218
        },
        "id": "EguUlz6d-u05",
        "outputId": "0472220c-d3f8-48a8-ef00-26684ef7e65e"
      },
      "execution_count": 11,
      "outputs": [
        {
          "output_type": "error",
          "ename": "NameError",
          "evalue": "ignored",
          "traceback": [
            "\u001b[0;31m---------------------------------------------------------------------------\u001b[0m",
            "\u001b[0;31mNameError\u001b[0m                                 Traceback (most recent call last)",
            "\u001b[0;32m<ipython-input-11-03f3197efc7f>\u001b[0m in \u001b[0;36m<cell line: 1>\u001b[0;34m()\u001b[0m\n\u001b[0;32m----> 1\u001b[0;31m \u001b[0mfull_data_df\u001b[0m \u001b[0;34m=\u001b[0m \u001b[0mfull_data_df\u001b[0m\u001b[0;34m.\u001b[0m\u001b[0mjoin\u001b[0m\u001b[0;34m(\u001b[0m\u001b[0mdf_rd\u001b[0m\u001b[0;34m,\u001b[0m \u001b[0mon\u001b[0m\u001b[0;34m=\u001b[0m\u001b[0;34m[\u001b[0m\u001b[0;34m\"date\"\u001b[0m\u001b[0;34m,\u001b[0m\u001b[0;34m'company'\u001b[0m\u001b[0;34m]\u001b[0m\u001b[0;34m,\u001b[0m \u001b[0mhow\u001b[0m\u001b[0;34m=\u001b[0m\u001b[0;34m\"inner\"\u001b[0m\u001b[0;34m)\u001b[0m\u001b[0;34m\u001b[0m\u001b[0;34m\u001b[0m\u001b[0m\n\u001b[0m\u001b[1;32m      2\u001b[0m \u001b[0;34m\u001b[0m\u001b[0m\n\u001b[1;32m      3\u001b[0m \u001b[0;31m# show the joined DataFrame\u001b[0m\u001b[0;34m\u001b[0m\u001b[0;34m\u001b[0m\u001b[0m\n\u001b[1;32m      4\u001b[0m \u001b[0mfull_data_df\u001b[0m\u001b[0;34m.\u001b[0m\u001b[0mcount\u001b[0m\u001b[0;34m(\u001b[0m\u001b[0;34m)\u001b[0m\u001b[0;34m\u001b[0m\u001b[0;34m\u001b[0m\u001b[0m\n",
            "\u001b[0;31mNameError\u001b[0m: name 'full_data_df' is not defined"
          ]
        }
      ]
    },
    {
      "cell_type": "code",
      "source": [
        "company_1=full_data_df.filter(col('company')==1)\n",
        "company_2=full_data_df.filter(col('company')==2)\n",
        "company_3=full_data_df.filter(col('company')==3)\n",
        "company_4=full_data_df.filter(col('company')==4)\n",
        "company_5=full_data_df.filter(col('company')==5)"
      ],
      "metadata": {
        "id": "jFNSLtCd_ZA3",
        "colab": {
          "base_uri": "https://localhost:8080/",
          "height": 235
        },
        "outputId": "64f0d070-2524-4b30-bc57-834f711959b4"
      },
      "execution_count": 10,
      "outputs": [
        {
          "output_type": "error",
          "ename": "NameError",
          "evalue": "ignored",
          "traceback": [
            "\u001b[0;31m---------------------------------------------------------------------------\u001b[0m",
            "\u001b[0;31mNameError\u001b[0m                                 Traceback (most recent call last)",
            "\u001b[0;32m<ipython-input-10-d8c0115cb6af>\u001b[0m in \u001b[0;36m<cell line: 1>\u001b[0;34m()\u001b[0m\n\u001b[0;32m----> 1\u001b[0;31m \u001b[0mcompany_1\u001b[0m\u001b[0;34m=\u001b[0m\u001b[0mfull_data_df\u001b[0m\u001b[0;34m.\u001b[0m\u001b[0mfilter\u001b[0m\u001b[0;34m(\u001b[0m\u001b[0mcol\u001b[0m\u001b[0;34m(\u001b[0m\u001b[0;34m'company'\u001b[0m\u001b[0;34m)\u001b[0m\u001b[0;34m==\u001b[0m\u001b[0;36m1\u001b[0m\u001b[0;34m)\u001b[0m\u001b[0;34m\u001b[0m\u001b[0;34m\u001b[0m\u001b[0m\n\u001b[0m\u001b[1;32m      2\u001b[0m \u001b[0mcompany_2\u001b[0m\u001b[0;34m=\u001b[0m\u001b[0mfull_data_df\u001b[0m\u001b[0;34m.\u001b[0m\u001b[0mfilter\u001b[0m\u001b[0;34m(\u001b[0m\u001b[0mcol\u001b[0m\u001b[0;34m(\u001b[0m\u001b[0;34m'company'\u001b[0m\u001b[0;34m)\u001b[0m\u001b[0;34m==\u001b[0m\u001b[0;36m2\u001b[0m\u001b[0;34m)\u001b[0m\u001b[0;34m\u001b[0m\u001b[0;34m\u001b[0m\u001b[0m\n\u001b[1;32m      3\u001b[0m \u001b[0mcompany_3\u001b[0m\u001b[0;34m=\u001b[0m\u001b[0mfull_data_df\u001b[0m\u001b[0;34m.\u001b[0m\u001b[0mfilter\u001b[0m\u001b[0;34m(\u001b[0m\u001b[0mcol\u001b[0m\u001b[0;34m(\u001b[0m\u001b[0;34m'company'\u001b[0m\u001b[0;34m)\u001b[0m\u001b[0;34m==\u001b[0m\u001b[0;36m3\u001b[0m\u001b[0;34m)\u001b[0m\u001b[0;34m\u001b[0m\u001b[0;34m\u001b[0m\u001b[0m\n\u001b[1;32m      4\u001b[0m \u001b[0mcompany_4\u001b[0m\u001b[0;34m=\u001b[0m\u001b[0mfull_data_df\u001b[0m\u001b[0;34m.\u001b[0m\u001b[0mfilter\u001b[0m\u001b[0;34m(\u001b[0m\u001b[0mcol\u001b[0m\u001b[0;34m(\u001b[0m\u001b[0;34m'company'\u001b[0m\u001b[0;34m)\u001b[0m\u001b[0;34m==\u001b[0m\u001b[0;36m4\u001b[0m\u001b[0;34m)\u001b[0m\u001b[0;34m\u001b[0m\u001b[0;34m\u001b[0m\u001b[0m\n\u001b[1;32m      5\u001b[0m \u001b[0mcompany_5\u001b[0m\u001b[0;34m=\u001b[0m\u001b[0mfull_data_df\u001b[0m\u001b[0;34m.\u001b[0m\u001b[0mfilter\u001b[0m\u001b[0;34m(\u001b[0m\u001b[0mcol\u001b[0m\u001b[0;34m(\u001b[0m\u001b[0;34m'company'\u001b[0m\u001b[0;34m)\u001b[0m\u001b[0;34m==\u001b[0m\u001b[0;36m5\u001b[0m\u001b[0;34m)\u001b[0m\u001b[0;34m\u001b[0m\u001b[0;34m\u001b[0m\u001b[0m\n",
            "\u001b[0;31mNameError\u001b[0m: name 'full_data_df' is not defined"
          ]
        }
      ]
    },
    {
      "cell_type": "code",
      "source": [],
      "metadata": {
        "colab": {
          "base_uri": "https://localhost:8080/",
          "height": 166
        },
        "id": "Ys8NPHs2OlLh",
        "outputId": "49728445-c8e5-45b1-f647-8fe13e32eb13"
      },
      "execution_count": null,
      "outputs": [
        {
          "output_type": "error",
          "ename": "NameError",
          "evalue": "ignored",
          "traceback": [
            "\u001b[0;31m---------------------------------------------------------------------------\u001b[0m",
            "\u001b[0;31mNameError\u001b[0m                                 Traceback (most recent call last)",
            "\u001b[0;32m<ipython-input-54-027187d87dba>\u001b[0m in \u001b[0;36m<cell line: 1>\u001b[0;34m()\u001b[0m\n\u001b[0;32m----> 1\u001b[0;31m \u001b[0mwindow\u001b[0m \u001b[0;34m=\u001b[0m \u001b[0mwindow\u001b[0m\u001b[0;34m(\u001b[0m\u001b[0;34m\"date\"\u001b[0m\u001b[0;34m,\u001b[0m \u001b[0;34m\"7 days\"\u001b[0m\u001b[0;34m)\u001b[0m\u001b[0;34m\u001b[0m\u001b[0;34m\u001b[0m\u001b[0m\n\u001b[0m",
            "\u001b[0;31mNameError\u001b[0m: name 'window' is not defined"
          ]
        }
      ]
    },
    {
      "cell_type": "code",
      "source": [
        "from pyspark.sql.functions import weekofyear,window, avg, round as r1\n",
        "\n",
        "# Define window specification\n",
        "window = window(\"date\", \"7 days\")\n",
        "\n",
        "# Group data by every 7 days and calculate mean of columns\n",
        "company_1_week = company_1.groupBy(window.alias(\"week\")).agg(avg('weighted_avg_sentiment_score').alias('mean_weighted_avg_sentiment_score'),\n",
        "                                                avg('daywise_median_positive_score').alias('mean_daywise_median_positive_score'),\n",
        "                                                avg('daywise_median_negative_score').alias('mean_daywise_median_negative_score'),\n",
        "                                                avg('daywise_positive_tweet_count').alias('mean_daywise_positive_tweet_count'),\n",
        "                                                avg('daywise_negative_tweet_count').alias('mean_daywise_negative_tweet_count'),\n",
        "                                                avg('daywise_avg_replyCount').alias('mean_daywise_avg_replyCount'),\n",
        "                                                avg('daywise_avg_retweetCount').alias('mean_daywise_avg_retweetCount'),\n",
        "                                                avg('daywise_avg_likeCount').alias('mean_daywise_avg_likeCount'),\n",
        "                                                avg('daywise_avg_quoteCount').alias('mean_daywise_avg_quoteCount'),\n",
        "                                                r1(avg('trend')).cast(\"int\").alias('sent_trend'),\n",
        "                                                r1(avg('sent_trend')).cast(\"int\").alias('trend')).orderBy('week')\n",
        "\n",
        "company_2_week = company_2.groupBy(window.alias(\"week\")).agg(avg('weighted_avg_sentiment_score').alias('mean_weighted_avg_sentiment_score'),\n",
        "                                                avg('daywise_median_positive_score').alias('mean_daywise_median_positive_score'),\n",
        "                                                avg('daywise_median_negative_score').alias('mean_daywise_median_negative_score'),\n",
        "                                                avg('daywise_positive_tweet_count').alias('mean_daywise_positive_tweet_count'),\n",
        "                                                avg('daywise_negative_tweet_count').alias('mean_daywise_negative_tweet_count'),\n",
        "                                                avg('daywise_avg_replyCount').alias('mean_daywise_avg_replyCount'),\n",
        "                                                avg('daywise_avg_retweetCount').alias('mean_daywise_avg_retweetCount'),\n",
        "                                                avg('daywise_avg_likeCount').alias('mean_daywise_avg_likeCount'),\n",
        "                                                avg('daywise_avg_quoteCount').alias('mean_daywise_avg_quoteCount'),\n",
        "                                                r1(avg('trend')).cast(\"int\").alias('sent_trend'),\n",
        "                                                r1(avg('sent_trend')).cast(\"int\").alias('trend')).orderBy('week')    \n",
        "\n",
        "\n",
        "company_3_week = company_3.groupBy(window.alias(\"week\")).agg(avg('weighted_avg_sentiment_score').alias('mean_weighted_avg_sentiment_score'),\n",
        "                                                avg('daywise_median_positive_score').alias('mean_daywise_median_positive_score'),\n",
        "                                                avg('daywise_median_negative_score').alias('mean_daywise_median_negative_score'),\n",
        "                                                avg('daywise_positive_tweet_count').alias('mean_daywise_positive_tweet_count'),\n",
        "                                                avg('daywise_negative_tweet_count').alias('mean_daywise_negative_tweet_count'),\n",
        "                                                avg('daywise_avg_replyCount').alias('mean_daywise_avg_replyCount'),\n",
        "                                                avg('daywise_avg_retweetCount').alias('mean_daywise_avg_retweetCount'),\n",
        "                                                avg('daywise_avg_likeCount').alias('mean_daywise_avg_likeCount'),\n",
        "                                                avg('daywise_avg_quoteCount').alias('mean_daywise_avg_quoteCount'),\n",
        "                                                r1(avg('trend')).cast(\"int\").alias('sent_trend'),\n",
        "                                                r1(avg('sent_trend')).cast(\"int\").alias('trend')).orderBy('week')     \n",
        "\n",
        "\n",
        "company_4_week = company_4.groupBy(window.alias(\"week\")).agg(avg('weighted_avg_sentiment_score').alias('mean_weighted_avg_sentiment_score'),\n",
        "                                                avg('daywise_median_positive_score').alias('mean_daywise_median_positive_score'),\n",
        "                                                avg('daywise_median_negative_score').alias('mean_daywise_median_negative_score'),\n",
        "                                                avg('daywise_positive_tweet_count').alias('mean_daywise_positive_tweet_count'),\n",
        "                                                avg('daywise_negative_tweet_count').alias('mean_daywise_negative_tweet_count'),\n",
        "                                                avg('daywise_avg_replyCount').alias('mean_daywise_avg_replyCount'),\n",
        "                                                avg('daywise_avg_retweetCount').alias('mean_daywise_avg_retweetCount'),\n",
        "                                                avg('daywise_avg_likeCount').alias('mean_daywise_avg_likeCount'),\n",
        "                                                avg('daywise_avg_quoteCount').alias('mean_daywise_avg_quoteCount'),\n",
        "                                                r1(avg('trend')).cast(\"int\").alias('sent_trend'),\n",
        "                                                r1(avg('sent_trend')).cast(\"int\").alias('trend')).orderBy('week')    \n",
        "\n",
        "\n",
        "company_5_week = company_5.groupBy(window.alias(\"week\")).agg(avg('weighted_avg_sentiment_score').alias('mean_weighted_avg_sentiment_score'),\n",
        "                                                avg('daywise_median_positive_score').alias('mean_daywise_median_positive_score'),\n",
        "                                                avg('daywise_median_negative_score').alias('mean_daywise_median_negative_score'),\n",
        "                                                avg('daywise_positive_tweet_count').alias('mean_daywise_positive_tweet_count'),\n",
        "                                                avg('daywise_negative_tweet_count').alias('mean_daywise_negative_tweet_count'),\n",
        "                                                avg('daywise_avg_replyCount').alias('mean_daywise_avg_replyCount'),\n",
        "                                                avg('daywise_avg_retweetCount').alias('mean_daywise_avg_retweetCount'),\n",
        "                                                avg('daywise_avg_likeCount').alias('mean_daywise_avg_likeCount'),\n",
        "                                                avg('daywise_avg_quoteCount').alias('mean_daywise_avg_quoteCount'),\n",
        "                                                r1(avg('trend')).cast(\"int\").alias('sent_trend'),\n",
        "                                                r1(avg('sent_trend')).cast(\"int\").alias('trend')).orderBy('week')                                  \n",
        "\n"
      ],
      "metadata": {
        "id": "lUu-NJ3m_Szs",
        "colab": {
          "base_uri": "https://localhost:8080/",
          "height": 235
        },
        "outputId": "c308fef7-b3a9-4162-f16c-d7457a3900e3"
      },
      "execution_count": 9,
      "outputs": [
        {
          "output_type": "error",
          "ename": "NameError",
          "evalue": "ignored",
          "traceback": [
            "\u001b[0;31m---------------------------------------------------------------------------\u001b[0m",
            "\u001b[0;31mNameError\u001b[0m                                 Traceback (most recent call last)",
            "\u001b[0;32m<ipython-input-9-d22e44210815>\u001b[0m in \u001b[0;36m<cell line: 7>\u001b[0;34m()\u001b[0m\n\u001b[1;32m      5\u001b[0m \u001b[0;34m\u001b[0m\u001b[0m\n\u001b[1;32m      6\u001b[0m \u001b[0;31m# Group data by every 7 days and calculate mean of columns\u001b[0m\u001b[0;34m\u001b[0m\u001b[0;34m\u001b[0m\u001b[0m\n\u001b[0;32m----> 7\u001b[0;31m company_1_week = company_1.groupBy(window.alias(\"week\")).agg(avg('weighted_avg_sentiment_score').alias('mean_weighted_avg_sentiment_score'),\n\u001b[0m\u001b[1;32m      8\u001b[0m                                                 \u001b[0mavg\u001b[0m\u001b[0;34m(\u001b[0m\u001b[0;34m'daywise_median_positive_score'\u001b[0m\u001b[0;34m)\u001b[0m\u001b[0;34m.\u001b[0m\u001b[0malias\u001b[0m\u001b[0;34m(\u001b[0m\u001b[0;34m'mean_daywise_median_positive_score'\u001b[0m\u001b[0;34m)\u001b[0m\u001b[0;34m,\u001b[0m\u001b[0;34m\u001b[0m\u001b[0;34m\u001b[0m\u001b[0m\n\u001b[1;32m      9\u001b[0m                                                 \u001b[0mavg\u001b[0m\u001b[0;34m(\u001b[0m\u001b[0;34m'daywise_median_negative_score'\u001b[0m\u001b[0;34m)\u001b[0m\u001b[0;34m.\u001b[0m\u001b[0malias\u001b[0m\u001b[0;34m(\u001b[0m\u001b[0;34m'mean_daywise_median_negative_score'\u001b[0m\u001b[0;34m)\u001b[0m\u001b[0;34m,\u001b[0m\u001b[0;34m\u001b[0m\u001b[0;34m\u001b[0m\u001b[0m\n",
            "\u001b[0;31mNameError\u001b[0m: name 'company_1' is not defined"
          ]
        }
      ]
    },
    {
      "cell_type": "code",
      "source": [
        "company_1_week.show()"
      ],
      "metadata": {
        "colab": {
          "base_uri": "https://localhost:8080/"
        },
        "id": "caTq74X2JAPk",
        "outputId": "6dd07c32-bd7f-4017-9bc7-e80d9ad00a75"
      },
      "execution_count": null,
      "outputs": [
        {
          "output_type": "stream",
          "name": "stdout",
          "text": [
            "+--------------------+---------------------------------+----------------------------------+----------------------------------+---------------------------------+---------------------------------+---------------------------+-----------------------------+--------------------------+---------------------------+----------+-----+\n",
            "|                week|mean_weighted_avg_sentiment_score|mean_daywise_median_positive_score|mean_daywise_median_negative_score|mean_daywise_positive_tweet_count|mean_daywise_negative_tweet_count|mean_daywise_avg_replyCount|mean_daywise_avg_retweetCount|mean_daywise_avg_likeCount|mean_daywise_avg_quoteCount|sent_trend|trend|\n",
            "+--------------------+---------------------------------+----------------------------------+----------------------------------+---------------------------------+---------------------------------+---------------------------+-----------------------------+--------------------------+---------------------------+----------+-----+\n",
            "|{2021-12-30 00:00...|              0.31008710500080505|               0.44789999999999996|                            0.3443|                             18.0|                              3.0|                       26.5|                          7.5|                      46.0|                        1.0|         0|    1|\n",
            "|{2022-01-06 00:00...|               0.3532202058322947|                0.4350714285714286|               0.35041428571428573|               12.571428571428571|               1.5714285714285714|         41.857142857142854|                          9.0|        51.285714285714285|         1.1428571428571428|         0|    1|\n",
            "|{2022-01-13 00:00...|               0.4050617376556636|                           0.50035|               0.37390000000000007|               13.333333333333334|               2.3333333333333335|         109.16666666666667|                         13.0|                      67.0|                        1.0|         1|    1|\n",
            "|{2022-01-20 00:00...|              0.22324860505967173|                0.4694571428571428|               0.35200000000000004|               11.857142857142858|               1.7142857142857142|         45.714285714285715|           42.285714285714285|        120.14285714285714|          8.714285714285714|         0|    0|\n",
            "|{2022-01-27 00:00...|              0.31646691977390135|                0.5193714285714286|                            0.4139|               25.857142857142858|                              3.0|         40.142857142857146|           15.857142857142858|        104.85714285714286|         1.4285714285714286|         1|    1|\n",
            "|{2022-02-03 00:00...|               0.4076485308355401|               0.47694285714285706|               0.38751428571428576|               14.857142857142858|                              2.0|                       26.0|           12.571428571428571|                      78.0|          3.142857142857143|         1|    0|\n",
            "|{2022-02-10 00:00...|               0.3710632288215167|               0.49874285714285715|                0.2989857142857143|               11.285714285714286|               1.7142857142857142|                       26.0|           13.857142857142858|         68.28571428571429|         1.4285714285714286|         0|    0|\n",
            "|{2022-02-17 00:00...|               0.3605583324609891|               0.40961428571428576|                0.4233285714285714|               10.428571428571429|               2.2857142857142856|         21.142857142857142|                         54.0|        101.57142857142857|         1.5714285714285714|         0|    0|\n",
            "|{2022-02-24 00:00...|              0.31081150523395845|               0.48682857142857144|                0.3560857142857142|                8.428571428571429|               1.4285714285714286|          7.428571428571429|           11.571428571428571|         71.71428571428571|         1.5714285714285714|         0|    1|\n",
            "|{2022-03-03 00:00...|               0.3769715284652877|                0.5504857142857144|                0.2598285714285714|               12.285714285714286|                2.142857142857143|         12.714285714285714|           13.142857142857142|        58.714285714285715|         1.5714285714285714|         0|    0|\n",
            "|{2022-03-10 00:00...|               0.3153593147710919|                0.5697285714285715|                0.3405428571428572|               12.857142857142858|               1.1428571428571428|          5.714285714285714|                         11.0|                      67.0|         1.2857142857142858|         1|    0|\n",
            "|{2022-03-17 00:00...|                0.458573591084283|                0.5870428571428571|                0.3247285714285714|                             13.0|               1.7142857142857142|         16.714285714285715|           22.428571428571427|         80.85714285714286|         1.7142857142857142|         1|    0|\n",
            "|{2022-03-24 00:00...|               0.3511605904475791|               0.43781428571428566|                0.5287571428571429|               10.285714285714286|               1.2857142857142858|         11.428571428571429|           24.714285714285715|         90.57142857142857|          4.857142857142857|         1|    0|\n",
            "|{2022-03-31 00:00...|                0.391422790467647|                0.5314428571428571|                0.3300714285714286|               13.428571428571429|               2.2857142857142856|          8.857142857142858|           12.857142857142858|         66.85714285714286|         1.8571428571428572|         0|    1|\n",
            "|{2022-04-07 00:00...|              0.24516234542327006|                0.5268142857142858|               0.34987142857142856|               10.857142857142858|                              3.0|         13.857142857142858|           34.142857142857146|        195.14285714285714|          6.428571428571429|         0|    0|\n",
            "|{2022-04-14 00:00...|               0.3072728112197443|               0.40608571428571427|                0.5052428571428572|                             10.0|               1.4285714285714286|          4.571428571428571|           14.857142857142858|         66.42857142857143|         1.8571428571428572|         0|    1|\n",
            "|{2022-04-21 00:00...|              0.23694963110218037|                0.4954714285714287|                            0.3799|               15.714285714285714|                4.714285714285714|          7.142857142857143|                         13.0|         71.71428571428571|                        2.0|         0|    1|\n",
            "|{2022-04-28 00:00...|              0.31390092037027273|                0.5233857142857142|                            0.2438|               11.428571428571429|               1.5714285714285714|          7.428571428571429|            7.571428571428571|         44.42857142857143|         1.1428571428571428|         1|    0|\n",
            "|{2022-05-05 00:00...|               0.2696619439112287|                0.5413857142857144|               0.37522857142857147|               15.142857142857142|                              4.0|          7.857142857142857|           15.142857142857142|         92.57142857142857|          2.857142857142857|         0|    0|\n",
            "|{2022-05-12 00:00...|              0.40782798847917884|               0.49457142857142855|               0.35250000000000004|                             12.0|                              2.0|         11.285714285714286|           14.571428571428571|         71.71428571428571|         1.5714285714285714|         1|    1|\n",
            "+--------------------+---------------------------------+----------------------------------+----------------------------------+---------------------------------+---------------------------------+---------------------------+-----------------------------+--------------------------+---------------------------+----------+-----+\n",
            "only showing top 20 rows\n",
            "\n"
          ]
        }
      ]
    },
    {
      "cell_type": "code",
      "source": [
        "from pyspark.sql.functions import date_trunc\n",
        "from pyspark.sql.functions import date_trunc\n",
        "company_1_week = company_1_week.withColumn(\"week_start\", date_trunc(\"week\", company_1_week[\"week\"]))\n"
      ],
      "metadata": {
        "id": "6GKeQZM1Gszn"
      },
      "execution_count": null,
      "outputs": []
    },
    {
      "cell_type": "code",
      "source": [
        "company_1_week"
      ],
      "metadata": {
        "id": "PT5fSjUzKD2I"
      },
      "execution_count": null,
      "outputs": []
    },
    {
      "cell_type": "code",
      "source": [
        "company_1_sen_trend=full_data_df.filter(col('company')==1).select('sent_trend').rdd.flatMap(lambda x: x).collect()\n",
        "company_2_sen_score=full_data_df.filter(col('company')==2).select('weighted_avg_sentiment_score').rdd.flatMap(lambda x: x).collect()\n",
        "company_3_sen_score=full_data_df.filter(col('company')==3).select('weighted_avg_sentiment_score').rdd.flatMap(lambda x: x).collect()\n",
        "company_4_sen_score=full_data_df.filter(col('company')==4).select('weighted_avg_sentiment_score').rdd.flatMap(lambda x: x).collect()\n",
        "company_5_sen_score=full_data_df.filter(col('company')==5).select('weighted_avg_sentiment_score').rdd.flatMap(lambda x: x).collect()"
      ],
      "metadata": {
        "id": "4WM6FF0vDQJC"
      },
      "execution_count": null,
      "outputs": []
    },
    {
      "cell_type": "code",
      "source": [
        "company_1_trend=company_1_week.select('trend').rdd.flatMap(lambda x: x).collect()\n",
        "company_1_sen_trend=company_1_week.select('sent_trend').rdd.flatMap(lambda x: x).collect()\n",
        "company_1_date=company_1_week.select('week').rdd.flatMap(lambda x: x).collect()\n",
        "company_1_date = [company_1_date[i][0] for i in range(len(company_1_date))]\n",
        "\n",
        "company_2_trend=company_2_week.select('trend').rdd.flatMap(lambda x: x).collect()\n",
        "company_2_sen_trend=company_2_week.select('sent_trend').rdd.flatMap(lambda x: x).collect()\n",
        "company_2_date=company_2_week.select('week').rdd.flatMap(lambda x: x).collect()\n",
        "company_2_date = [company_2_date[i][0] for i in range(len(company_2_date))]\n",
        "\n",
        "company_3_trend=company_3_week.select('trend').rdd.flatMap(lambda x: x).collect()\n",
        "company_3_sen_trend=company_3_week.select('sent_trend').rdd.flatMap(lambda x: x).collect()\n",
        "company_3_date=company_3_week.select('week').rdd.flatMap(lambda x: x).collect()\n",
        "company_3_date = [company_3_date[i][0] for i in range(len(company_3_date))]\n",
        "\n",
        "company_4_trend=company_4_week.select('trend').rdd.flatMap(lambda x: x).collect()\n",
        "company_4_sen_trend=company_4_week.select('sent_trend').rdd.flatMap(lambda x: x).collect()\n",
        "company_4_date=company_4_week.select('week').rdd.flatMap(lambda x: x).collect()\n",
        "company_4_date = [company_4_date[i][0] for i in range(len(company_4_date))]\n",
        "\n",
        "company_5_trend=company_5_week.select('trend').rdd.flatMap(lambda x: x).collect()\n",
        "company_5_sen_trend=company_5_week.select('sent_trend').rdd.flatMap(lambda x: x).collect()\n",
        "company_5_date=company_5_week.select('week').rdd.flatMap(lambda x: x).collect()\n",
        "company_5_date = [company_5_date[i][0] for i in range(len(company_5_date))]"
      ],
      "metadata": {
        "id": "aAwHXYnLDgxB"
      },
      "execution_count": null,
      "outputs": []
    },
    {
      "cell_type": "code",
      "source": [
        "for i in range(1,6):\n",
        "  plt.plot(eval(\"company_\"+str(i)+\"_date\"), eval(\"company_\"+str(i)+\"_trend\"),label='stockP_trend',legend='')\n",
        "  plt.plot(eval(\"company_\"+str(i)+\"_date\"),eval(\"company_\"+str(i)+\"_sen_trend\"),label='sent_trend')\n",
        "  plt.title('company '+str(i))\n",
        "  plt.show()"
      ],
      "metadata": {
        "colab": {
          "base_uri": "https://localhost:8080/",
          "height": 235
        },
        "id": "wzFuTVK1AXlS",
        "outputId": "e0329e1c-8b7c-4a0e-ba78-9664f646b985"
      },
      "execution_count": 1,
      "outputs": [
        {
          "output_type": "error",
          "ename": "NameError",
          "evalue": "ignored",
          "traceback": [
            "\u001b[0;31m---------------------------------------------------------------------------\u001b[0m",
            "\u001b[0;31mNameError\u001b[0m                                 Traceback (most recent call last)",
            "\u001b[0;32m<ipython-input-1-cde86b70aa8d>\u001b[0m in \u001b[0;36m<cell line: 1>\u001b[0;34m()\u001b[0m\n\u001b[1;32m      1\u001b[0m \u001b[0;32mfor\u001b[0m \u001b[0mi\u001b[0m \u001b[0;32min\u001b[0m \u001b[0mrange\u001b[0m\u001b[0;34m(\u001b[0m\u001b[0;36m1\u001b[0m\u001b[0;34m,\u001b[0m\u001b[0;36m6\u001b[0m\u001b[0;34m)\u001b[0m\u001b[0;34m:\u001b[0m\u001b[0;34m\u001b[0m\u001b[0;34m\u001b[0m\u001b[0m\n\u001b[0;32m----> 2\u001b[0;31m   \u001b[0mplt\u001b[0m\u001b[0;34m.\u001b[0m\u001b[0mplot\u001b[0m\u001b[0;34m(\u001b[0m\u001b[0meval\u001b[0m\u001b[0;34m(\u001b[0m\u001b[0;34m\"company_\"\u001b[0m\u001b[0;34m+\u001b[0m\u001b[0mstr\u001b[0m\u001b[0;34m(\u001b[0m\u001b[0mi\u001b[0m\u001b[0;34m)\u001b[0m\u001b[0;34m+\u001b[0m\u001b[0;34m\"_date\"\u001b[0m\u001b[0;34m)\u001b[0m\u001b[0;34m,\u001b[0m \u001b[0meval\u001b[0m\u001b[0;34m(\u001b[0m\u001b[0;34m\"company_\"\u001b[0m\u001b[0;34m+\u001b[0m\u001b[0mstr\u001b[0m\u001b[0;34m(\u001b[0m\u001b[0mi\u001b[0m\u001b[0;34m)\u001b[0m\u001b[0;34m+\u001b[0m\u001b[0;34m\"_trend\"\u001b[0m\u001b[0;34m)\u001b[0m\u001b[0;34m,\u001b[0m\u001b[0mlabel\u001b[0m\u001b[0;34m=\u001b[0m\u001b[0;34m'stockP_trend'\u001b[0m\u001b[0;34m,\u001b[0m\u001b[0mlegend\u001b[0m\u001b[0;34m=\u001b[0m\u001b[0;34m''\u001b[0m\u001b[0;34m)\u001b[0m\u001b[0;34m\u001b[0m\u001b[0;34m\u001b[0m\u001b[0m\n\u001b[0m\u001b[1;32m      3\u001b[0m   \u001b[0mplt\u001b[0m\u001b[0;34m.\u001b[0m\u001b[0mplot\u001b[0m\u001b[0;34m(\u001b[0m\u001b[0meval\u001b[0m\u001b[0;34m(\u001b[0m\u001b[0;34m\"company_\"\u001b[0m\u001b[0;34m+\u001b[0m\u001b[0mstr\u001b[0m\u001b[0;34m(\u001b[0m\u001b[0mi\u001b[0m\u001b[0;34m)\u001b[0m\u001b[0;34m+\u001b[0m\u001b[0;34m\"_date\"\u001b[0m\u001b[0;34m)\u001b[0m\u001b[0;34m,\u001b[0m\u001b[0meval\u001b[0m\u001b[0;34m(\u001b[0m\u001b[0;34m\"company_\"\u001b[0m\u001b[0;34m+\u001b[0m\u001b[0mstr\u001b[0m\u001b[0;34m(\u001b[0m\u001b[0mi\u001b[0m\u001b[0;34m)\u001b[0m\u001b[0;34m+\u001b[0m\u001b[0;34m\"_sen_trend\"\u001b[0m\u001b[0;34m)\u001b[0m\u001b[0;34m,\u001b[0m\u001b[0mlabel\u001b[0m\u001b[0;34m=\u001b[0m\u001b[0;34m'sent_trend'\u001b[0m\u001b[0;34m)\u001b[0m\u001b[0;34m\u001b[0m\u001b[0;34m\u001b[0m\u001b[0m\n\u001b[1;32m      4\u001b[0m   \u001b[0mplt\u001b[0m\u001b[0;34m.\u001b[0m\u001b[0mtitle\u001b[0m\u001b[0;34m(\u001b[0m\u001b[0;34m'company '\u001b[0m\u001b[0;34m+\u001b[0m\u001b[0mstr\u001b[0m\u001b[0;34m(\u001b[0m\u001b[0mi\u001b[0m\u001b[0;34m)\u001b[0m\u001b[0;34m)\u001b[0m\u001b[0;34m\u001b[0m\u001b[0;34m\u001b[0m\u001b[0m\n\u001b[1;32m      5\u001b[0m   \u001b[0mplt\u001b[0m\u001b[0;34m.\u001b[0m\u001b[0mshow\u001b[0m\u001b[0;34m(\u001b[0m\u001b[0;34m)\u001b[0m\u001b[0;34m\u001b[0m\u001b[0;34m\u001b[0m\u001b[0m\n",
            "\u001b[0;31mNameError\u001b[0m: name 'plt' is not defined"
          ]
        }
      ]
    },
    {
      "cell_type": "code",
      "source": [
        "plt.plot(company_1_date,company_1_sen_trend)"
      ],
      "metadata": {
        "id": "ntEyHFD3HJ39"
      },
      "execution_count": null,
      "outputs": []
    },
    {
      "cell_type": "code",
      "source": [],
      "metadata": {
        "id": "OTOOL8QCDApX"
      },
      "execution_count": null,
      "outputs": []
    },
    {
      "cell_type": "code",
      "source": [
        "rows = [Row(name=name, age=age) for name, age in data]"
      ],
      "metadata": {
        "id": "oIORrQkudBcj"
      },
      "execution_count": null,
      "outputs": []
    },
    {
      "cell_type": "code",
      "source": [
        "\n",
        "\n",
        "\n"
      ],
      "metadata": {
        "id": "J5fK778i6VdS"
      },
      "execution_count": null,
      "outputs": []
    },
    {
      "cell_type": "code",
      "source": [
        "company_list=full_data_df.select('company').distinct().select(collect_list(\"company\")).first()[0]\n",
        "company_list"
      ],
      "metadata": {
        "id": "_9OjljSH10V5"
      },
      "execution_count": null,
      "outputs": []
    }
  ]
}